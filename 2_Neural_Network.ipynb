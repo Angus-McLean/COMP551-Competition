{
 "cells": [
  {
   "cell_type": "markdown",
   "metadata": {},
   "source": [
    "# Project \\#4: Find the “Largest” Digit"
   ]
  },
  {
   "cell_type": "markdown",
   "metadata": {},
   "source": [
    "## Part 2 : Neural Network (feed-forward, adaptive-learning rate, momentum, regularization)"
   ]
  },
  {
   "cell_type": "code",
   "execution_count": 1,
   "metadata": {
    "collapsed": true
   },
   "outputs": [],
   "source": [
    "%matplotlib inline"
   ]
  },
  {
   "cell_type": "code",
   "execution_count": 2,
   "metadata": {
    "collapsed": true
   },
   "outputs": [],
   "source": [
    "import pandas, numpy as np\n",
    "import matplotlib.pyplot as plt\n",
    "import scipy.misc "
   ]
  },
  {
   "cell_type": "markdown",
   "metadata": {},
   "source": [
    "## Load the preprocessed data"
   ]
  },
  {
   "cell_type": "code",
   "execution_count": 5,
   "metadata": {
    "collapsed": false
   },
   "outputs": [],
   "source": [
    "data_x = np.loadtxt(\"../Datasets/processed_train_x.csv\", delimiter=\",\") \n",
    "data_y = np.loadtxt(\"../Datasets/train_y.csv\", delimiter=\",\") \n",
    "\n",
    "data_y = [preprocess_y(y) for y in data_y]\n",
    "data_x = [x.reshape((625,1)) for x in data_x]\n",
    "full_data = zip(data_x, data_y)\n",
    "random.shuffle(full_data)\n",
    "\n",
    "#do an 80/20 split for training/test: \n",
    "num_examples = np.shape(data_x)[0]\n",
    "split = int(0.8 * num_examples)\n",
    "train_data = full_data[:split]\n",
    "test_data = full_data[split:]"
   ]
  },
  {
   "cell_type": "markdown",
   "metadata": {},
   "source": [
    "## Load the Standard MNIST data"
   ]
  },
  {
   "cell_type": "code",
   "execution_count": 6,
   "metadata": {
    "collapsed": true
   },
   "outputs": [],
   "source": [
    "MNIST_test = np.loadtxt(\"../MNIST_Datasets/mnist_test.csv\", delimiter=\",\") \n",
    "MNIST_train = data_x = np.loadtxt(\"../MNIST_Datasets/mnist_train.csv\", delimiter=\",\") "
   ]
  },
  {
   "cell_type": "code",
   "execution_count": 38,
   "metadata": {
    "collapsed": false
   },
   "outputs": [],
   "source": [
    "MNIST_test_y = [preprocess_y(y) for y in MNIST_test[:,0]]\n",
    "MNIST_test_x = [x.reshape((784,1)) for x in MNIST_test[:,1:]]\n",
    "MNIST_test_data = zip(MNIST_test_x, MNIST_test_y)\n",
    "\n",
    "MNIST_train_y = [preprocess_y(y) for y in MNIST_train[:,0]]\n",
    "MNIST_train_x = [x.reshape((784,1)) for x in MNIST_train[:,1:]]\n",
    "MNIST_train_data = zip(MNIST_train_x, MNIST_train_y)"
   ]
  },
  {
   "cell_type": "markdown",
   "metadata": {},
   "source": [
    "# Feed Forward Neural Network"
   ]
  },
  {
   "cell_type": "code",
   "execution_count": 41,
   "metadata": {
    "collapsed": false
   },
   "outputs": [],
   "source": [
    "import random\n",
    "\n",
    "def preprocess_y(y):\n",
    "    y = int(y)\n",
    "    new_y = np.zeros(10)\n",
    "    new_y[y] = 1.0\n",
    "    return new_y.T.reshape((10,1))\n",
    "\n",
    "\n",
    "def sigmoid(z, derivative):\n",
    "    sig = 1.0 / (1.0 + np.exp(-z))\n",
    "    if derivative == False:\n",
    "        return sig\n",
    "    else:\n",
    "        return sig * (1 - sig)   \n",
    "\n",
    "class Network(object):\n",
    "    def __init__(self, sizes, norm, mom, lr):\n",
    "        self.num_layers = len(sizes)\n",
    "        self.sizes = sizes\n",
    "        self.__init__weights()\n",
    "        self.__init__biases()\n",
    "        self.momentum_coef = mom\n",
    "        self.norm = norm\n",
    "        self.lr = lr\n",
    "        \n",
    "    def __init__weights(self):\n",
    "        #weights are initialized using Glorot initialization\n",
    "        self.weights = [np.random.uniform(-np.sqrt(6)/np.sqrt(x+y), np.sqrt(6)/np.sqrt(x+y),(y, x)) for x, y in zip(self.sizes[:-1], self.sizes[1:])]\n",
    "\n",
    "    def __init__biases(self):\n",
    "        #Biases are initialized randomly\n",
    "        self.biases = [np.random.randn(y, 1) for y in self.sizes[1:]]\n",
    "  \n",
    "    #Feed Forward method computes the output vector of Neural Network assuming that the weights are trained\n",
    "    def feedforward(self, a):\n",
    "        for b, w in zip(self.biases, self.weights):\n",
    "            a = np.dot(w, a) + b\n",
    "            a = sigmoid(a,derivative = False)\n",
    "        return a\n",
    "    \n",
    "    def Stochasitc_Gradient_Descent(self, training_data, epochs, mini_batch_size, test_data = None):\n",
    "        learning_rate = self.lr\n",
    "        best_result = 0\n",
    "        n = len(training_data)\n",
    "        if test_data != None: \n",
    "            n_test = len(test_data)\n",
    "        test_results = [0.0]    \n",
    "        for j in xrange(epochs):\n",
    "            random.shuffle(training_data)\n",
    "            batches = [training_data[k : k + mini_batch_size] for k in xrange(0, n, mini_batch_size)]\n",
    "            \n",
    "            #Momentum Terms used to speed up crossing saddle points\n",
    "            gradient_biases_old = [np.zeros(b.shape) for b in self.biases]\n",
    "            gradient_weights_old = [np.zeros(w.shape) for w in self.weights]\n",
    "            \n",
    "            for batch in batches:\n",
    "                gradient_biases = [np.zeros(b.shape) for b in self.biases]\n",
    "                gradient_weights = [np.zeros(w.shape) for w in self.weights]\n",
    "                \n",
    "                #Momentum addition of previous gradient values\n",
    "                momentum_biases = np.multiply(self.momentum_coef,gradient_biases_old)\n",
    "                momentum_weights = np.multiply(self.momentum_coef,gradient_weights_old)\n",
    "                \n",
    "                #compute dC/dW for each example in batch and add them to gradent arrays\n",
    "                for x, y in batch:\n",
    "                    d_gradient_biases, d_gradient_weights = self.Compute_Gradient_Term(x, y)\n",
    "                    gradent_biases = [gb + dgb for gb, dgb in zip(gradient_biases, d_gradient_biases)]\n",
    "                    gradient_weights = [gw + dgw for gw, dgw in zip(gradient_weights, d_gradient_weights)]\n",
    "\n",
    "                #Standard terms of the gradient update\n",
    "                prefactor = float(-learning_rate / len(batch))\n",
    "                gradient_biases  = np.multiply(prefactor, gradient_biases)\n",
    "                gradient_weights  = np.multiply(prefactor, gradient_weights)\n",
    "                \n",
    "                #Update previous gradient updates to current gradients\n",
    "                gradient_biases_old = gradient_biases\n",
    "                gradient_weights_old = gradient_weights\n",
    "                \n",
    "                #Add update to weights and continue on next mini-batch\n",
    "                self.weights = [(1-((self.norm*learning_rate)/len(batch)))*w + gw + mw  for w, gw, mw in zip(self.weights,gradient_weights, momentum_weights)]\n",
    "                self.biases = [b + gb + mb for b, gb, mb in zip(self.biases,gradient_biases, momentum_biases)]\n",
    "\n",
    "            \n",
    "            if test_data:\n",
    "                test = self.evaluate(test_data)\n",
    "                print \"Epoch %d: %f\" %(j+1, test/float(n_test))\n",
    "                test_results.append(test)\n",
    "                #Adaptive Learning Rate:\n",
    "                result_improvement = np.abs(test_results[-1] - test_results[-2])/ float(test_results[-2])\n",
    "                #if there is little improvement from previous to current result then halve the learning rate\n",
    "                if result_improvement < 0.001:\n",
    "                    learning_rate = learning_rate / 2\n",
    "                    #end the reduction of the learning rate\n",
    "                    if learning_rate < 0.0005:\n",
    "                        learning_rate = 0.0005\n",
    "            else:\n",
    "                print \"Epoch %d complete\" %j+1\n",
    "        print \"Training Completed!\"\n",
    "        return test_results\n",
    "\n",
    "    def Compute_Gradient_Term(self, x, y):\n",
    "        grad_b = [np.zeros(b.shape) for b in self.biases]\n",
    "        grad_w = [np.zeros(w.shape) for w in self.weights]\n",
    "        #Feed Forward Step: pass the input into the neural network with the current version of the weights\n",
    "        #and biases in order to obtain both the outputs at each layer and the activations at each layer\n",
    "        activations = [x] \n",
    "        outputs = [] \n",
    "        for b, w in zip(self.biases, self.weights):\n",
    "            x = np.dot(w, x)+b\n",
    "            outputs.append(x)\n",
    "            x = sigmoid(x, derivative = False)\n",
    "            activations.append(x)\n",
    "        #Backward Pass: back propogate the errors of the previous forward pass step in order to compute\n",
    "        #the gradient updates for this specific image in the mini-batch\n",
    "        #The gradients of biases and weights will be averaged across the mini-batch and the update will be applied.\n",
    "        delta = (activations[-1] - y) * sigmoid(outputs[-1], derivative = True)\n",
    "        grad_b[-1] = delta\n",
    "        grad_w[-1] = np.dot(delta, activations[-2].T)\n",
    "        for n in xrange(2, self.num_layers):\n",
    "            delta = np.dot(self.weights[-n+1].T, delta) * sigmoid(outputs[-n], derivative = True)\n",
    "            grad_b[-n] = delta\n",
    "            grad_w[-n] = np.dot(delta, activations[-n-1].T)\n",
    "        return (grad_b, grad_w)\n",
    "    \n",
    "    def evaluate(self, test_data):\n",
    "        test_results = [(np.argmax(self.feedforward(x)), np.argmax(y))\n",
    "                        for (x, y) in test_data]\n",
    "        results = sum(int(x == y) for (x, y) in test_results)\n",
    "        return results\n",
    "    \n",
    "    def save_values(self):\n",
    "        np.savetxt(\"../best_weights_0.txt\",self.weights[0])\n",
    "        np.savetxt(\"../best_weights_1.txt\",self.weights[1])\n",
    "        np.savetxt(\"../best_biases_0.txt\",self.biases[0])\n",
    "        np.savetxt(\"../best_biases_1.txt\",self.biases[1])"
   ]
  },
  {
   "cell_type": "markdown",
   "metadata": {},
   "source": [
    "## Baseline test: MNIST vs. Modified MNIST (same hyper-parameters)"
   ]
  },
  {
   "cell_type": "code",
   "execution_count": 46,
   "metadata": {
    "collapsed": false
   },
   "outputs": [
    {
     "name": "stdout",
     "output_type": "stream",
     "text": [
      "Training Network 1 on  40000  preprocessed training images\n"
     ]
    },
    {
     "name": "stderr",
     "output_type": "stream",
     "text": [
      "/Users/jacksklar/anaconda/lib/python2.7/site-packages/ipykernel/__main__.py:11: RuntimeWarning: overflow encountered in exp\n"
     ]
    },
    {
     "name": "stdout",
     "output_type": "stream",
     "text": [
      "Epoch 1: 0.625000\n"
     ]
    },
    {
     "name": "stderr",
     "output_type": "stream",
     "text": [
      "/Users/jacksklar/anaconda/lib/python2.7/site-packages/ipykernel/__main__.py:93: RuntimeWarning: divide by zero encountered in double_scalars\n"
     ]
    },
    {
     "name": "stdout",
     "output_type": "stream",
     "text": [
      "Epoch 2: 0.684800\n",
      "Epoch 3: 0.709800\n",
      "Epoch 4: 0.721800\n",
      "Epoch 5: 0.732400\n",
      "Epoch 6: 0.737700\n",
      "Epoch 7: 0.742900\n",
      "Epoch 8: 0.751000\n",
      "Epoch 9: 0.755600\n",
      "Epoch 10: 0.765300\n",
      "Epoch 11: 0.766300\n",
      "Epoch 12: 0.769900\n",
      "Epoch 13: 0.777600\n",
      "Epoch 14: 0.771800\n",
      "Epoch 15: 0.783500\n",
      "Epoch 16: 0.781200\n",
      "Epoch 17: 0.778800\n",
      "Epoch 18: 0.784800\n",
      "Epoch 19: 0.785800\n",
      "Epoch 20: 0.792200\n",
      "Epoch 21: 0.786900\n",
      "Epoch 22: 0.792300\n",
      "Epoch 23: 0.795600\n",
      "Epoch 24: 0.797000\n",
      "Epoch 25: 0.791400\n",
      "Epoch 26: 0.792300\n",
      "Epoch 27: 0.794300\n",
      "Epoch 28: 0.796500\n",
      "Epoch 29: 0.797100\n",
      "Epoch 30: 0.807300\n",
      "Training Completed!\n",
      "\n",
      "\n",
      "Training Network 2 on  60000  MNIST training images\n",
      "Epoch 1: 0.893400\n",
      "Epoch 2: 0.914700\n",
      "Epoch 3: 0.923800\n",
      "Epoch 4: 0.929700\n",
      "Epoch 5: 0.932700\n",
      "Epoch 6: 0.935900\n",
      "Epoch 7: 0.937800\n",
      "Epoch 8: 0.940400\n",
      "Epoch 9: 0.941700\n",
      "Epoch 10: 0.939600\n",
      "Epoch 11: 0.945500\n",
      "Epoch 12: 0.946300\n",
      "Epoch 13: 0.948500\n",
      "Epoch 14: 0.950000\n",
      "Epoch 15: 0.951100\n",
      "Epoch 16: 0.951700\n",
      "Epoch 17: 0.953500\n",
      "Epoch 18: 0.954100\n",
      "Epoch 19: 0.954400\n",
      "Epoch 20: 0.954400\n",
      "Epoch 21: 0.955400\n",
      "Epoch 22: 0.954800\n",
      "Epoch 23: 0.954900\n",
      "Epoch 24: 0.954900\n",
      "Epoch 25: 0.955000\n",
      "Epoch 26: 0.954900\n",
      "Epoch 27: 0.954900\n",
      "Epoch 28: 0.954800\n",
      "Epoch 29: 0.954800\n",
      "Epoch 30: 0.954600\n",
      "Training Completed!\n"
     ]
    }
   ],
   "source": [
    "print \"Training Network 1 on \", len(train_data),\" preprocessed training images\" \n",
    "shape_1 = [625, 150, 10]\n",
    "net_1 = Network(shape_1, 0.1, 0.1, 0.1)\n",
    "ModMNIST_results = net_1.Stochasitc_Gradient_Descent(train_data, 30, 100, test_data = test_data) \n",
    "print \n",
    "print\n",
    "\n",
    "print \"Training Network 2 on \", len(MNIST_train_data),\" MNIST training images\" \n",
    "shape_2 = [784,150,10]\n",
    "net_2 = Network(shape_2,0.1, 0.1, 0.1)\n",
    "MNIST_results = net_2.Stochasitc_Gradient_Descent(MNIST_train_data, 30, 100, test_data = MNIST_test_data)   "
   ]
  },
  {
   "cell_type": "code",
   "execution_count": 48,
   "metadata": {
    "collapsed": false
   },
   "outputs": [
    {
     "data": {
      "image/png": "[encoded data removed]",
      "text/plain": [
       "<matplotlib.figure.Figure at 0x11c758bd0>"
      ]
     },
     "metadata": {},
     "output_type": "display_data"
    }
   ],
   "source": [
    "plt.plot(range(1,31), np.divide(ModMNIST_results[1:], 10000.0),label = 'Modified MNIST NN')\n",
    "plt.plot(range(1,31), np.divide(MNIST_results[1:], 10000.0), label = 'Modified MNIST NN')\n",
    "plt.xlabel(\"Epochs\")\n",
    "plt.ylabel(\"Test Performance\")\n",
    "plt.savefig(\"../MNIST_vs_mod.png\",dpi = 700)\n",
    "plt.show()\n"
   ]
  },
  {
   "cell_type": "markdown",
   "metadata": {},
   "source": [
    "## Optimize the hyper-parameters using Grid-search"
   ]
  },
  {
   "cell_type": "code",
   "execution_count": 53,
   "metadata": {
    "collapsed": true
   },
   "outputs": [],
   "source": [
    "def Optimize():\n",
    "    epochs = 30\n",
    "    batch_size = 100\n",
    "    learning_rates = [0.1, 0.2]   #initially had higher starting learning rates, but was clear they were slower to converge.\n",
    "    hidden_sizes = [20, 50, 100, 200, 300, 400]\n",
    "    #Grid_search for optimal parameters:\n",
    "    print \"Grid search of hyper-parameters: hidden-layer size, and learning_rate\"\n",
    "    Grid_data = []\n",
    "    Grid_vals = []\n",
    "    count  = 0\n",
    "    for rate in learning_rates:\n",
    "        for h_size in hidden_sizes:\n",
    "            count += 1\n",
    "            shape = [625, h_size, 10]\n",
    "            net = Network(shape, 0.1, 0.1, 0.1)\n",
    "            print \"%d:            Learning Rate: %f       Hidden-Layer Size: %f\" %(count, rate, h_size)\n",
    "            data = net.Stochasitc_Gradient_Descent(train_data, epochs, batch_size, test_data = test_data)   \n",
    "            Grid_data.append(data)\n",
    "    return Grid_data"
   ]
  },
  {
   "cell_type": "code",
   "execution_count": 540,
   "metadata": {
    "collapsed": false
   },
   "outputs": [
    {
     "name": "stdout",
     "output_type": "stream",
     "text": [
      "Grid search of hyper-parameters: hidden-layer size, and learning_rate\n",
      "1:            Learning Rate: 0.100000       Hidden-Layer Size: 20.000000\n"
     ]
    },
    {
     "name": "stderr",
     "output_type": "stream",
     "text": [
      "/Users/jacksklar/anaconda/lib/python2.7/site-packages/ipykernel/__main__.py:15: RuntimeWarning: overflow encountered in exp\n"
     ]
    },
    {
     "name": "stdout",
     "output_type": "stream",
     "text": [
      "Epoch 1: 3513 / 10000\n"
     ]
    },
    {
     "name": "stderr",
     "output_type": "stream",
     "text": [
      "/Users/jacksklar/anaconda/lib/python2.7/site-packages/ipykernel/__main__.py:98: RuntimeWarning: divide by zero encountered in double_scalars\n"
     ]
    },
    {
     "name": "stdout",
     "output_type": "stream",
     "text": [
      "Epoch 2: 4557 / 10000\n",
      "Epoch 3: 5095 / 10000\n",
      "Epoch 4: 5206 / 10000\n",
      "Epoch 5: 5634 / 10000\n",
      "Epoch 6: 5761 / 10000\n",
      "Epoch 7: 5846 / 10000\n",
      "Epoch 8: 5981 / 10000\n",
      "Epoch 9: 5857 / 10000\n",
      "Epoch 10: 6136 / 10000\n",
      "Epoch 11: 6171 / 10000\n",
      "Epoch 12: 6208 / 10000\n",
      "Epoch 13: 6247 / 10000\n",
      "Epoch 14: 6348 / 10000\n",
      "Epoch 15: 6495 / 10000\n",
      "Epoch 16: 6332 / 10000\n",
      "Epoch 17: 6443 / 10000\n",
      "Epoch 18: 6561 / 10000\n",
      "Epoch 19: 6417 / 10000\n",
      "Epoch 20: 6308 / 10000\n",
      "Epoch 21: 6427 / 10000\n",
      "Epoch 22: 6530 / 10000\n",
      "Epoch 23: 6561 / 10000\n",
      "Epoch 24: 6352 / 10000\n",
      "Epoch 25: 6518 / 10000\n",
      "Epoch 26: 6419 / 10000\n",
      "Epoch 27: 6543 / 10000\n",
      "Epoch 28: 6574 / 10000\n",
      "Epoch 29: 6664 / 10000\n",
      "Epoch 30: 6580 / 10000\n",
      "Training Completed!\n",
      "2:            Learning Rate: 0.100000       Hidden-Layer Size: 50.000000\n",
      "Epoch 1: 5237 / 10000\n",
      "Epoch 2: 5978 / 10000\n",
      "Epoch 3: 6233 / 10000\n",
      "Epoch 4: 6479 / 10000\n",
      "Epoch 5: 6489 / 10000\n",
      "Epoch 6: 6654 / 10000\n",
      "Epoch 7: 6804 / 10000\n",
      "Epoch 8: 6868 / 10000\n",
      "Epoch 9: 6823 / 10000\n",
      "Epoch 10: 6975 / 10000\n",
      "Epoch 11: 6935 / 10000\n",
      "Epoch 12: 6893 / 10000\n",
      "Epoch 13: 7020 / 10000\n",
      "Epoch 14: 7083 / 10000\n",
      "Epoch 15: 6967 / 10000\n",
      "Epoch 16: 7070 / 10000\n",
      "Epoch 17: 7135 / 10000\n",
      "Epoch 18: 7159 / 10000\n",
      "Epoch 19: 7212 / 10000\n",
      "Epoch 20: 7152 / 10000\n",
      "Epoch 21: 7190 / 10000\n",
      "Epoch 22: 7125 / 10000\n",
      "Epoch 23: 7284 / 10000\n",
      "Epoch 24: 7221 / 10000\n",
      "Epoch 25: 7273 / 10000\n",
      "Epoch 26: 7230 / 10000\n",
      "Epoch 27: 7233 / 10000\n",
      "Epoch 28: 7305 / 10000\n",
      "Epoch 29: 7316 / 10000\n",
      "Epoch 30: 7340 / 10000\n",
      "Training Completed!\n",
      "3:            Learning Rate: 0.100000       Hidden-Layer Size: 100.000000\n",
      "Epoch 1: 5747 / 10000\n",
      "Epoch 2: 6586 / 10000\n",
      "Epoch 3: 6827 / 10000\n",
      "Epoch 4: 6983 / 10000\n",
      "Epoch 5: 7039 / 10000\n",
      "Epoch 6: 7249 / 10000\n",
      "Epoch 7: 7276 / 10000\n",
      "Epoch 8: 7226 / 10000\n",
      "Epoch 9: 7248 / 10000\n",
      "Epoch 10: 7365 / 10000\n",
      "Epoch 11: 7385 / 10000\n",
      "Epoch 12: 7462 / 10000\n",
      "Epoch 13: 7426 / 10000\n",
      "Epoch 14: 7451 / 10000\n",
      "Epoch 15: 7419 / 10000\n",
      "Epoch 16: 7489 / 10000\n",
      "Epoch 17: 7507 / 10000\n",
      "Epoch 18: 7534 / 10000\n",
      "Epoch 19: 7552 / 10000\n",
      "Epoch 20: 7559 / 10000\n",
      "Epoch 21: 7652 / 10000\n",
      "Epoch 22: 7671 / 10000\n",
      "Epoch 23: 7717 / 10000\n",
      "Epoch 24: 7748 / 10000\n",
      "Epoch 25: 7741 / 10000\n",
      "Epoch 26: 7757 / 10000\n",
      "Epoch 27: 7792 / 10000\n",
      "Epoch 28: 7776 / 10000\n",
      "Epoch 29: 7802 / 10000\n",
      "Epoch 30: 7777 / 10000\n",
      "Training Completed!\n",
      "4:            Learning Rate: 0.100000       Hidden-Layer Size: 200.000000\n",
      "Epoch 1: 6516 / 10000\n",
      "Epoch 2: 6978 / 10000\n",
      "Epoch 3: 7166 / 10000\n",
      "Epoch 4: 7397 / 10000\n",
      "Epoch 5: 7423 / 10000\n",
      "Epoch 6: 7493 / 10000\n",
      "Epoch 7: 7538 / 10000\n",
      "Epoch 8: 7602 / 10000\n",
      "Epoch 9: 7669 / 10000\n",
      "Epoch 10: 7733 / 10000\n",
      "Epoch 11: 7774 / 10000\n",
      "Epoch 12: 7772 / 10000\n",
      "Epoch 13: 7876 / 10000\n",
      "Epoch 14: 7923 / 10000\n",
      "Epoch 15: 7920 / 10000\n",
      "Epoch 16: 7957 / 10000\n",
      "Epoch 17: 7932 / 10000\n",
      "Epoch 18: 7960 / 10000\n",
      "Epoch 19: 7985 / 10000\n",
      "Epoch 20: 8000 / 10000\n",
      "Epoch 21: 7978 / 10000\n",
      "Epoch 22: 8000 / 10000\n",
      "Epoch 23: 8022 / 10000\n",
      "Epoch 24: 8001 / 10000\n",
      "Epoch 25: 8030 / 10000\n",
      "Epoch 26: 8048 / 10000\n",
      "Epoch 27: 8051 / 10000\n",
      "Epoch 28: 8070 / 10000\n",
      "Epoch 29: 8056 / 10000\n",
      "Epoch 30: 8075 / 10000\n",
      "Training Completed!\n",
      "5:            Learning Rate: 0.100000       Hidden-Layer Size: 300.000000\n",
      "Epoch 1: 6581 / 10000\n",
      "Epoch 2: 7025 / 10000\n",
      "Epoch 3: 7286 / 10000\n",
      "Epoch 4: 7430 / 10000\n",
      "Epoch 5: 7523 / 10000\n",
      "Epoch 6: 7608 / 10000\n",
      "Epoch 7: 7700 / 10000\n",
      "Epoch 8: 7716 / 10000\n",
      "Epoch 9: 7774 / 10000\n",
      "Epoch 10: 7836 / 10000\n",
      "Epoch 11: 7882 / 10000\n",
      "Epoch 12: 7954 / 10000\n",
      "Epoch 13: 7970 / 10000\n",
      "Epoch 14: 7991 / 10000\n",
      "Epoch 15: 8040 / 10000\n",
      "Epoch 16: 8048 / 10000\n",
      "Epoch 17: 8093 / 10000\n",
      "Epoch 18: 8147 / 10000\n",
      "Epoch 19: 8153 / 10000\n",
      "Epoch 20: 8152 / 10000\n",
      "Epoch 21: 8179 / 10000\n",
      "Epoch 22: 8187 / 10000\n",
      "Epoch 23: 8199 / 10000\n",
      "Epoch 24: 8188 / 10000\n",
      "Epoch 25: 8205 / 10000\n",
      "Epoch 26: 8206 / 10000\n",
      "Epoch 27: 8215 / 10000\n",
      "Epoch 28: 8205 / 10000\n",
      "Epoch 29: 8208 / 10000\n",
      "Epoch 30: 8214 / 10000\n",
      "Training Completed!\n",
      "6:            Learning Rate: 0.100000       Hidden-Layer Size: 400.000000\n",
      "Epoch 1: 6812 / 10000\n",
      "Epoch 2: 7193 / 10000\n",
      "Epoch 3: 7383 / 10000\n",
      "Epoch 4: 7542 / 10000\n",
      "Epoch 5: 7688 / 10000\n",
      "Epoch 6: 7772 / 10000\n",
      "Epoch 7: 7832 / 10000\n",
      "Epoch 8: 7900 / 10000\n",
      "Epoch 9: 7891 / 10000\n",
      "Epoch 10: 7966 / 10000\n",
      "Epoch 11: 7997 / 10000\n",
      "Epoch 12: 7992 / 10000\n",
      "Epoch 13: 8084 / 10000\n",
      "Epoch 14: 8125 / 10000\n",
      "Epoch 15: 8185 / 10000\n",
      "Epoch 16: 8195 / 10000\n",
      "Epoch 17: 8167 / 10000\n",
      "Epoch 18: 8189 / 10000\n",
      "Epoch 19: 8202 / 10000\n",
      "Epoch 20: 8230 / 10000\n",
      "Epoch 21: 8216 / 10000\n",
      "Epoch 22: 8283 / 10000\n",
      "Epoch 23: 8292 / 10000\n",
      "Epoch 24: 8274 / 10000\n",
      "Epoch 25: 8265 / 10000\n",
      "Epoch 26: 8289 / 10000\n",
      "Epoch 27: 8304 / 10000\n",
      "Epoch 28: 8301 / 10000\n",
      "Epoch 29: 8312 / 10000\n",
      "Epoch 30: 8344 / 10000\n",
      "Training Completed!\n",
      "7:            Learning Rate: 0.200000       Hidden-Layer Size: 20.000000\n",
      "Epoch 1: 3262 / 10000\n",
      "Epoch 2: 4291 / 10000\n",
      "Epoch 3: 4672 / 10000\n",
      "Epoch 4: 4705 / 10000\n",
      "Epoch 5: 4969 / 10000\n",
      "Epoch 6: 4970 / 10000\n",
      "Epoch 7: 5270 / 10000\n",
      "Epoch 8: 5383 / 10000\n",
      "Epoch 9: 5433 / 10000\n",
      "Epoch 10: 5583 / 10000\n",
      "Epoch 11: 5552 / 10000\n",
      "Epoch 12: 5811 / 10000\n",
      "Epoch 13: 5615 / 10000\n",
      "Epoch 14: 5630 / 10000\n",
      "Epoch 15: 5700 / 10000\n",
      "Epoch 16: 5710 / 10000\n",
      "Epoch 17: 5951 / 10000\n",
      "Epoch 18: 5652 / 10000\n",
      "Epoch 19: 6000 / 10000\n",
      "Epoch 20: 5937 / 10000\n",
      "Epoch 21: 5939 / 10000\n",
      "Epoch 22: 5888 / 10000\n",
      "Epoch 23: 5976 / 10000\n",
      "Epoch 24: 6139 / 10000\n",
      "Epoch 25: 5947 / 10000\n",
      "Epoch 26: 6123 / 10000\n",
      "Epoch 27: 6010 / 10000\n",
      "Epoch 28: 6171 / 10000\n",
      "Epoch 29: 6157 / 10000\n",
      "Epoch 30: 6131 / 10000\n",
      "Training Completed!\n",
      "8:            Learning Rate: 0.200000       Hidden-Layer Size: 50.000000\n",
      "Epoch 1: 5372 / 10000\n",
      "Epoch 2: 5958 / 10000\n",
      "Epoch 3: 6364 / 10000\n",
      "Epoch 4: 6575 / 10000\n",
      "Epoch 5: 6495 / 10000\n",
      "Epoch 6: 6579 / 10000\n",
      "Epoch 7: 6563 / 10000\n",
      "Epoch 8: 6611 / 10000\n",
      "Epoch 9: 6719 / 10000\n",
      "Epoch 10: 6843 / 10000\n",
      "Epoch 11: 6762 / 10000\n",
      "Epoch 12: 6765 / 10000\n",
      "Epoch 13: 6907 / 10000\n",
      "Epoch 14: 6999 / 10000\n",
      "Epoch 15: 7067 / 10000\n",
      "Epoch 16: 7005 / 10000\n",
      "Epoch 17: 7096 / 10000\n",
      "Epoch 18: 7135 / 10000\n",
      "Epoch 19: 7111 / 10000\n",
      "Epoch 20: 7193 / 10000\n",
      "Epoch 21: 7114 / 10000\n",
      "Epoch 22: 7172 / 10000\n",
      "Epoch 23: 7183 / 10000\n",
      "Epoch 24: 7205 / 10000\n",
      "Epoch 25: 7182 / 10000\n",
      "Epoch 26: 7154 / 10000\n",
      "Epoch 27: 7193 / 10000\n",
      "Epoch 28: 7246 / 10000\n",
      "Epoch 29: 7296 / 10000\n",
      "Epoch 30: 7225 / 10000\n",
      "Training Completed!\n",
      "9:            Learning Rate: 0.200000       Hidden-Layer Size: 100.000000\n",
      "Epoch 1: 6140 / 10000\n",
      "Epoch 2: 6505 / 10000\n",
      "Epoch 3: 6762 / 10000\n",
      "Epoch 4: 6767 / 10000\n",
      "Epoch 5: 7156 / 10000\n",
      "Epoch 6: 7162 / 10000\n",
      "Epoch 7: 7266 / 10000\n",
      "Epoch 8: 7263 / 10000\n",
      "Epoch 9: 7361 / 10000\n",
      "Epoch 10: 7379 / 10000\n",
      "Epoch 11: 7391 / 10000\n",
      "Epoch 12: 7393 / 10000\n",
      "Epoch 13: 7430 / 10000\n",
      "Epoch 14: 7407 / 10000\n",
      "Epoch 15: 7466 / 10000\n",
      "Epoch 16: 7457 / 10000\n",
      "Epoch 17: 7463 / 10000\n",
      "Epoch 18: 7484 / 10000\n",
      "Epoch 19: 7463 / 10000\n",
      "Epoch 20: 7488 / 10000\n",
      "Epoch 21: 7481 / 10000\n",
      "Epoch 22: 7485 / 10000\n",
      "Epoch 23: 7478 / 10000\n",
      "Epoch 24: 7481 / 10000\n",
      "Epoch 25: 7481 / 10000\n",
      "Epoch 26: 7483 / 10000\n",
      "Epoch 27: 7483 / 10000\n",
      "Epoch 28: 7481 / 10000\n",
      "Epoch 29: 7475 / 10000\n",
      "Epoch 30: 7478 / 10000\n",
      "Training Completed!\n",
      "10:            Learning Rate: 0.200000       Hidden-Layer Size: 200.000000\n",
      "Epoch 1: 6666 / 10000\n",
      "Epoch 2: 6905 / 10000\n",
      "Epoch 3: 7157 / 10000\n",
      "Epoch 4: 7282 / 10000\n",
      "Epoch 5: 7316 / 10000\n",
      "Epoch 6: 7382 / 10000\n",
      "Epoch 7: 7464 / 10000\n",
      "Epoch 8: 7478 / 10000\n",
      "Epoch 9: 7534 / 10000\n",
      "Epoch 10: 7584 / 10000\n",
      "Epoch 11: 7572 / 10000\n",
      "Epoch 12: 7538 / 10000\n",
      "Epoch 13: 7630 / 10000\n",
      "Epoch 14: 7632 / 10000\n",
      "Epoch 15: 7738 / 10000\n",
      "Epoch 16: 7745 / 10000\n",
      "Epoch 17: 7821 / 10000\n",
      "Epoch 18: 7899 / 10000\n",
      "Epoch 19: 7867 / 10000\n",
      "Epoch 20: 7908 / 10000\n",
      "Epoch 21: 7897 / 10000\n",
      "Epoch 22: 7933 / 10000\n",
      "Epoch 23: 7943 / 10000\n",
      "Epoch 24: 7946 / 10000\n",
      "Epoch 25: 7947 / 10000\n",
      "Epoch 26: 7958 / 10000\n",
      "Epoch 27: 7983 / 10000\n",
      "Epoch 28: 7997 / 10000\n",
      "Epoch 29: 7993 / 10000\n",
      "Epoch 30: 7987 / 10000\n",
      "Training Completed!\n",
      "11:            Learning Rate: 0.200000       Hidden-Layer Size: 300.000000\n",
      "Epoch 1: 6690 / 10000\n",
      "Epoch 2: 7114 / 10000\n",
      "Epoch 3: 7289 / 10000\n",
      "Epoch 4: 7419 / 10000\n",
      "Epoch 5: 7515 / 10000\n",
      "Epoch 6: 7511 / 10000\n",
      "Epoch 7: 7672 / 10000\n",
      "Epoch 8: 7769 / 10000\n",
      "Epoch 9: 7780 / 10000\n",
      "Epoch 10: 7830 / 10000\n",
      "Epoch 11: 7832 / 10000\n",
      "Epoch 12: 7920 / 10000\n",
      "Epoch 13: 7951 / 10000\n",
      "Epoch 14: 7983 / 10000\n",
      "Epoch 15: 8013 / 10000\n",
      "Epoch 16: 7989 / 10000\n",
      "Epoch 17: 8048 / 10000\n",
      "Epoch 18: 8045 / 10000\n",
      "Epoch 19: 8063 / 10000\n",
      "Epoch 20: 8076 / 10000\n",
      "Epoch 21: 8092 / 10000\n",
      "Epoch 22: 8092 / 10000\n",
      "Epoch 23: 8106 / 10000\n",
      "Epoch 24: 8096 / 10000\n",
      "Epoch 25: 8099 / 10000\n",
      "Epoch 26: 8104 / 10000\n",
      "Epoch 27: 8122 / 10000\n",
      "Epoch 28: 8114 / 10000\n",
      "Epoch 29: 8116 / 10000\n",
      "Epoch 30: 8122 / 10000\n",
      "Training Completed!\n",
      "12:            Learning Rate: 0.200000       Hidden-Layer Size: 400.000000\n",
      "Epoch 1: 6927 / 10000\n",
      "Epoch 2: 7227 / 10000\n",
      "Epoch 3: 7375 / 10000\n",
      "Epoch 4: 7535 / 10000\n",
      "Epoch 5: 7677 / 10000\n",
      "Epoch 6: 7629 / 10000\n",
      "Epoch 7: 7754 / 10000\n",
      "Epoch 8: 7769 / 10000\n",
      "Epoch 9: 7860 / 10000\n",
      "Epoch 10: 7857 / 10000\n",
      "Epoch 11: 7947 / 10000\n",
      "Epoch 12: 7988 / 10000\n",
      "Epoch 13: 8014 / 10000\n",
      "Epoch 14: 8038 / 10000\n",
      "Epoch 15: 8083 / 10000\n",
      "Epoch 16: 8102 / 10000\n",
      "Epoch 17: 8109 / 10000\n",
      "Epoch 18: 8155 / 10000\n",
      "Epoch 19: 8176 / 10000\n",
      "Epoch 20: 8183 / 10000\n",
      "Epoch 21: 8205 / 10000\n",
      "Epoch 22: 8218 / 10000\n",
      "Epoch 23: 8240 / 10000\n",
      "Epoch 24: 8198 / 10000\n",
      "Epoch 25: 8240 / 10000\n",
      "Epoch 26: 8223 / 10000\n",
      "Epoch 27: 8235 / 10000\n",
      "Epoch 28: 8234 / 10000\n",
      "Epoch 29: 8223 / 10000\n",
      "Epoch 30: 8249 / 10000\n",
      "Training Completed!\n",
      "13:            Learning Rate: 0.500000       Hidden-Layer Size: 20.000000\n",
      "Epoch 1: 1920 / 10000\n",
      "Epoch 2: 2324 / 10000\n",
      "Epoch 3: 3887 / 10000\n",
      "Epoch 4: 3649 / 10000\n",
      "Epoch 5: 4215 / 10000\n"
     ]
    },
    {
     "ename": "KeyboardInterrupt",
     "evalue": "",
     "output_type": "error",
     "traceback": [
      "\u001b[0;31m---------------------------------------------------------------------------\u001b[0m",
      "\u001b[0;31mKeyboardInterrupt\u001b[0m                         Traceback (most recent call last)",
      "\u001b[0;32m<ipython-input-540-37db98379874>\u001b[0m in \u001b[0;36m<module>\u001b[0;34m()\u001b[0m\n\u001b[0;32m----> 1\u001b[0;31m \u001b[0mdata_supreme\u001b[0m \u001b[0;34m=\u001b[0m \u001b[0mOptimize\u001b[0m\u001b[0;34m(\u001b[0m\u001b[0;34m)\u001b[0m\u001b[0;34m\u001b[0m\u001b[0m\n\u001b[0m\u001b[1;32m      2\u001b[0m \u001b[0mnp\u001b[0m\u001b[0;34m.\u001b[0m\u001b[0msavetxt\u001b[0m\u001b[0;34m(\u001b[0m\u001b[0;34m\"../grid_data.txt\"\u001b[0m\u001b[0;34m,\u001b[0m\u001b[0mdata_supreme\u001b[0m\u001b[0;34m)\u001b[0m\u001b[0;34m\u001b[0m\u001b[0m\n",
      "\u001b[0;32m<ipython-input-537-4f12acfabf60>\u001b[0m in \u001b[0;36mOptimize\u001b[0;34m()\u001b[0m\n\u001b[1;32m     15\u001b[0m             \u001b[0mnet\u001b[0m \u001b[0;34m=\u001b[0m \u001b[0mNetwork\u001b[0m\u001b[0;34m(\u001b[0m\u001b[0mshape\u001b[0m\u001b[0;34m)\u001b[0m\u001b[0;34m\u001b[0m\u001b[0m\n\u001b[1;32m     16\u001b[0m             \u001b[0;32mprint\u001b[0m \u001b[0;34m\"%d:            Learning Rate: %f       Hidden-Layer Size: %f\"\u001b[0m \u001b[0;34m%\u001b[0m\u001b[0;34m(\u001b[0m\u001b[0mcount\u001b[0m\u001b[0;34m,\u001b[0m \u001b[0mrate\u001b[0m\u001b[0;34m,\u001b[0m \u001b[0mh_size\u001b[0m\u001b[0;34m)\u001b[0m\u001b[0;34m\u001b[0m\u001b[0m\n\u001b[0;32m---> 17\u001b[0;31m             \u001b[0mdata\u001b[0m \u001b[0;34m=\u001b[0m \u001b[0mnet\u001b[0m\u001b[0;34m.\u001b[0m\u001b[0mStochasitc_Gradient_Descent\u001b[0m\u001b[0;34m(\u001b[0m\u001b[0mtrain_data\u001b[0m\u001b[0;34m,\u001b[0m \u001b[0mepochs\u001b[0m\u001b[0;34m,\u001b[0m \u001b[0mbatch_size\u001b[0m\u001b[0;34m,\u001b[0m \u001b[0mrate\u001b[0m\u001b[0;34m,\u001b[0m \u001b[0mtest_data\u001b[0m \u001b[0;34m=\u001b[0m \u001b[0mtest_data\u001b[0m\u001b[0;34m)\u001b[0m\u001b[0;34m\u001b[0m\u001b[0m\n\u001b[0m\u001b[1;32m     18\u001b[0m             \u001b[0mGrid_data\u001b[0m\u001b[0;34m.\u001b[0m\u001b[0mappend\u001b[0m\u001b[0;34m(\u001b[0m\u001b[0mdata\u001b[0m\u001b[0;34m)\u001b[0m \u001b[0;31m# (best_weights, best_biases, final learning_rate, best_result, test_results)\u001b[0m\u001b[0;34m\u001b[0m\u001b[0m\n\u001b[1;32m     19\u001b[0m     \u001b[0;32mreturn\u001b[0m \u001b[0mGrid_data\u001b[0m\u001b[0;34m\u001b[0m\u001b[0m\n",
      "\u001b[0;32m<ipython-input-529-15dd5d9575bd>\u001b[0m in \u001b[0;36mStochasitc_Gradient_Descent\u001b[0;34m(self, training_data, epochs, mini_batch_size, learning_rate, test_data)\u001b[0m\n\u001b[1;32m     67\u001b[0m                 \u001b[0;31m#compute dC/dW for each example in batch and add them to gradent arrays\u001b[0m\u001b[0;34m\u001b[0m\u001b[0;34m\u001b[0m\u001b[0m\n\u001b[1;32m     68\u001b[0m                 \u001b[0;32mfor\u001b[0m \u001b[0mx\u001b[0m\u001b[0;34m,\u001b[0m \u001b[0my\u001b[0m \u001b[0;32min\u001b[0m \u001b[0mbatch\u001b[0m\u001b[0;34m:\u001b[0m\u001b[0;34m\u001b[0m\u001b[0m\n\u001b[0;32m---> 69\u001b[0;31m                     \u001b[0md_gradient_biases\u001b[0m\u001b[0;34m,\u001b[0m \u001b[0md_gradient_weights\u001b[0m \u001b[0;34m=\u001b[0m \u001b[0mself\u001b[0m\u001b[0;34m.\u001b[0m\u001b[0mBack_Propogation\u001b[0m\u001b[0;34m(\u001b[0m\u001b[0mx\u001b[0m\u001b[0;34m,\u001b[0m \u001b[0my\u001b[0m\u001b[0;34m)\u001b[0m\u001b[0;34m\u001b[0m\u001b[0m\n\u001b[0m\u001b[1;32m     70\u001b[0m                     \u001b[0mgradent_biases\u001b[0m \u001b[0;34m=\u001b[0m \u001b[0;34m[\u001b[0m\u001b[0mgb\u001b[0m \u001b[0;34m+\u001b[0m \u001b[0mdgb\u001b[0m \u001b[0;32mfor\u001b[0m \u001b[0mgb\u001b[0m\u001b[0;34m,\u001b[0m \u001b[0mdgb\u001b[0m \u001b[0;32min\u001b[0m \u001b[0mzip\u001b[0m\u001b[0;34m(\u001b[0m\u001b[0mgradient_biases\u001b[0m\u001b[0;34m,\u001b[0m \u001b[0md_gradient_biases\u001b[0m\u001b[0;34m)\u001b[0m\u001b[0;34m]\u001b[0m\u001b[0;34m\u001b[0m\u001b[0m\n\u001b[1;32m     71\u001b[0m                     \u001b[0mgradient_weights\u001b[0m \u001b[0;34m=\u001b[0m \u001b[0;34m[\u001b[0m\u001b[0mgw\u001b[0m \u001b[0;34m+\u001b[0m \u001b[0mdgw\u001b[0m \u001b[0;32mfor\u001b[0m \u001b[0mgw\u001b[0m\u001b[0;34m,\u001b[0m \u001b[0mdgw\u001b[0m \u001b[0;32min\u001b[0m \u001b[0mzip\u001b[0m\u001b[0;34m(\u001b[0m\u001b[0mgradient_weights\u001b[0m\u001b[0;34m,\u001b[0m \u001b[0md_gradient_weights\u001b[0m\u001b[0;34m)\u001b[0m\u001b[0;34m]\u001b[0m\u001b[0;34m\u001b[0m\u001b[0m\n",
      "\u001b[0;32m<ipython-input-529-15dd5d9575bd>\u001b[0m in \u001b[0;36mBack_Propogation\u001b[0;34m(self, x, y)\u001b[0m\n\u001b[1;32m    131\u001b[0m             \u001b[0mdelta\u001b[0m \u001b[0;34m=\u001b[0m \u001b[0mnp\u001b[0m\u001b[0;34m.\u001b[0m\u001b[0mdot\u001b[0m\u001b[0;34m(\u001b[0m\u001b[0mself\u001b[0m\u001b[0;34m.\u001b[0m\u001b[0mweights\u001b[0m\u001b[0;34m[\u001b[0m\u001b[0;34m-\u001b[0m\u001b[0mn\u001b[0m\u001b[0;34m+\u001b[0m\u001b[0;36m1\u001b[0m\u001b[0;34m]\u001b[0m\u001b[0;34m.\u001b[0m\u001b[0mT\u001b[0m\u001b[0;34m,\u001b[0m \u001b[0mdelta\u001b[0m\u001b[0;34m)\u001b[0m \u001b[0;34m*\u001b[0m \u001b[0msigmoid\u001b[0m\u001b[0;34m(\u001b[0m\u001b[0moutputs\u001b[0m\u001b[0;34m[\u001b[0m\u001b[0;34m-\u001b[0m\u001b[0mn\u001b[0m\u001b[0;34m]\u001b[0m\u001b[0;34m,\u001b[0m \u001b[0mderivative\u001b[0m \u001b[0;34m=\u001b[0m \u001b[0mTrue\u001b[0m\u001b[0;34m)\u001b[0m\u001b[0;34m\u001b[0m\u001b[0m\n\u001b[1;32m    132\u001b[0m             \u001b[0mgrad_b\u001b[0m\u001b[0;34m[\u001b[0m\u001b[0;34m-\u001b[0m\u001b[0mn\u001b[0m\u001b[0;34m]\u001b[0m \u001b[0;34m=\u001b[0m \u001b[0mdelta\u001b[0m\u001b[0;34m\u001b[0m\u001b[0m\n\u001b[0;32m--> 133\u001b[0;31m             \u001b[0mgrad_w\u001b[0m\u001b[0;34m[\u001b[0m\u001b[0;34m-\u001b[0m\u001b[0mn\u001b[0m\u001b[0;34m]\u001b[0m \u001b[0;34m=\u001b[0m \u001b[0mnp\u001b[0m\u001b[0;34m.\u001b[0m\u001b[0mdot\u001b[0m\u001b[0;34m(\u001b[0m\u001b[0mdelta\u001b[0m\u001b[0;34m,\u001b[0m \u001b[0mactivations\u001b[0m\u001b[0;34m[\u001b[0m\u001b[0;34m-\u001b[0m\u001b[0mn\u001b[0m\u001b[0;34m-\u001b[0m\u001b[0;36m1\u001b[0m\u001b[0;34m]\u001b[0m\u001b[0;34m.\u001b[0m\u001b[0mT\u001b[0m\u001b[0;34m)\u001b[0m\u001b[0;34m\u001b[0m\u001b[0m\n\u001b[0m\u001b[1;32m    134\u001b[0m         \u001b[0;32mreturn\u001b[0m \u001b[0;34m(\u001b[0m\u001b[0mgrad_b\u001b[0m\u001b[0;34m,\u001b[0m \u001b[0mgrad_w\u001b[0m\u001b[0;34m)\u001b[0m\u001b[0;34m\u001b[0m\u001b[0m\n\u001b[1;32m    135\u001b[0m \u001b[0;34m\u001b[0m\u001b[0m\n",
      "\u001b[0;31mKeyboardInterrupt\u001b[0m: "
     ]
    }
   ],
   "source": [
    "data_supreme = Optimize()\n",
    "np.savetxt(\"../grid_data.txt\",data_supreme)"
   ]
  },
  {
   "cell_type": "markdown",
   "metadata": {},
   "source": [
    "#### grid search shows that the larger hidden layers perform better, but have diminishing returns, so a hidden layer size of 150 was chosen to optimize performance as well as  minimize run time  [hidden layers of sizes 200,300,400 only did marginally better]"
   ]
  },
  {
   "cell_type": "markdown",
   "metadata": {},
   "source": [
    "## Plot results from Optimization of hyper-parameters"
   ]
  },
  {
   "cell_type": "code",
   "execution_count": 52,
   "metadata": {
    "collapsed": false
   },
   "outputs": [
    {
     "data": {
      "image/png": "[encoded data removed]",
      "text/plain": [
       "<matplotlib.figure.Figure at 0x118966cd0>"
      ]
     },
     "metadata": {},
     "output_type": "display_data"
    }
   ],
   "source": [
    "lr1hl20 = [0.3513, 0.4557, 0.5095, 0.5206, 0.5634, 0.5761, 0.5846, 0.5981, 0.5857, 0.6136, 0.6171, 0.6208, 0.6247, 0.6348, 0.6495, 0.6332, 0.6443, 0.6561, 0.6417, 0.6308, 0.6427, 0.6530, 0.6561, 0.6352, 0.6518, 0.6419, 0.6543, 0.6574, 0.6664, 0.6580]\n",
    "lr1hl50 = [0.5237, 0.5978, 0.6233, 0.6479, 0.6489, 0.6654, 0.6804, 0.6868, 0.6823, 0.6975, 0.6935, 0.6893, 0.7020, 0.7083, 0.6967, 0.7070, 0.7135, 0.7159, 0.7212, 0.7152, 0.7190, 0.7125, 0.7284, 0.7221, 0.7273, 0.7230, 0.7233, 0.7305, 0.7316, 0.7340]\n",
    "lr1hl100 = [0.5747, 0.6586, 0.6827, 0.6983, 0.7039, 0.7249, 0.7276, 0.7226, 0.7248, 0.7365, 0.7385, 0.7462, 0.7426, 0.7451, 0.7419, 0.7489, 0.7507, 0.7534, 0.7552, 0.7559, 0.7652, 0.7671, 0.7717, 0.7748, 0.7741, 0.7757, 0.7792, 0.7776, 0.7802, 0.7777]\n",
    "lr1hl200 = [0.6516, 0.6978, 0.7166, 0.7397, 0.7423, 0.7493, 0.7538, 0.7602, 0.7669, 0.7733, 0.7774, 0.7772, 0.7876, 0.7923, 0.7920, 0.7957, 0.7932, 0.7960, 0.7985, 0.8000, 0.7978, 0.8000, 0.8022, 0.8001, 0.8030, 0.8048, 0.8051, 0.8070, 0.8056, 0.8075]\n",
    "lr1hl300 = [0.6581, 0.7025, 0.7286, 0.7430, 0.7523, 0.7608, 0.7700, 0.7716, 0.7774, 0.7836, 0.7882, 0.7954, 0.7970, 0.7991, 0.8040, 0.8048, 0.8093, 0.8147, 0.8153, 0.8152, 0.8179, 0.8187, 0.8199, 0.8188, 0.8205, 0.8206, 0.8215, 0.8205, 0.8208, 0.8214]\n",
    "lr1hl400 = [0.6812, 0.7193, 0.7383, 0.7542, 0.7688, 0.7772, 0.7832, 0.7900, 0.7891, 0.7966, 0.7997, 0.7992, 0.8084, 0.8125, 0.8185, 0.8195, 0.8167, 0.8189, 0.8202, 0.8230, 0.8216, 0.8283, 0.8292, 0.8274, 0.8265, 0.8289, 0.8304, 0.8301, 0.8312, 0.8344]\n",
    "lr2hl20 = [0.3262, 0.4291, 0.4672, 0.4705, 0.4969, 0.4970, 0.5270, 0.5383, 0.5433, 0.5583, 0.5552, 0.5811, 0.5615, 0.5630, 0.5700, 0.5710, 0.5951, 0.5652, 0.6000, 0.5937, 0.5939, 0.5888, 0.5976, 0.6139, 0.5947, 0.6123, 0.6010, 0.6171, 0.6157, 0.6131]\n",
    "lr2hl50 = [0.5372, 0.5958, 0.6364, 0.6575, 0.6495, 0.6579, 0.6563, 0.6611, 0.6719, 0.6843, 0.6762, 0.6765, 0.6907, 0.6999, 0.7067, 0.7005, 0.7096, 0.7135, 0.7111, 0.7193, 0.7114, 0.7172, 0.7183, 0.7205, 0.7182, 0.7154, 0.7193, 0.7246, 0.7296, 0.7225]\n",
    "lr2hl100 = [0.6140, 0.6505, 0.6762, 0.6767, 0.7156, 0.7162, 0.7266, 0.7263, 0.7361, 0.7379, 0.7391, 0.7393, 0.7430, 0.7407, 0.7466, 0.7457, 0.7463, 0.7484, 0.7463, 0.7488, 0.7481, 0.7485, 0.7478, 0.7481, 0.7481, 0.7483, 0.7483, 0.7481, 0.7475, 0.7478]\n",
    "lr2hl200 = [0.6666, 0.6905, 0.7157, 0.7282, 0.7316, 0.7382, 0.7464, 0.7478, 0.7534, 0.7584, 0.7572, 0.7538, 0.7630, 0.7632, 0.7738, 0.7745, 0.7821, 0.7899, 0.7867, 0.7908, 0.7897, 0.7933, 0.7943, 0.7946, 0.7947, 0.7958, 0.7983, 0.7997, 0.7993, 0.7987]\n",
    "lr2hl300 = [0.6690, 0.7114, 0.7289, 0.7419, 0.7515, 0.7511, 0.7672, 0.7769, 0.7780, 0.7830, 0.7832, 0.7920, 0.7951, 0.7983, 0.8013, 0.7989, 0.8048, 0.8045, 0.8063, 0.8076, 0.8092, 0.8092, 0.8106, 0.8096, 0.8099, 0.8104, 0.8122, 0.8114, 0.8116, 0.8122]\n",
    "lr2hl400 = [0.6927, 0.7227, 0.7375, 0.7535, 0.7677, 0.7629, 0.7754, 0.7769, 0.7860, 0.7857, 0.7947, 0.7988, 0.8014, 0.8038, 0.8083, 0.8102, 0.8109, 0.8155, 0.8176, 0.8183, 0.8205, 0.8218, 0.8240, 0.8198, 0.8240, 0.8223, 0.8235, 0.8234, 0.8223, 0.8249]\n",
    "combinations = [lr1hl20, lr1hl50, lr1hl100, lr1hl200, lr1hl300, lr1hl400, lr2hl20, lr2hl50, lr2hl100, lr2hl200, lr2hl300, lr2hl400]\n",
    "labels = ['hl = 20', 'hl = 50', 'hl = 100', 'hl = 200', 'hl = 300', 'hl = 400']\n",
    "domain = range(1,31)\n",
    "for i in range(0,6):\n",
    "    #plotting only the configurations with learning rate  = 0.1, since 0.2 overall performed worse (slower convergence)\n",
    "    plt.plot(domain,combinations[i], label = labels[i])\n",
    "plt.legend()\n",
    "plt.xlabel(\"Epochs\")\n",
    "plt.ylabel(\"Test Performace\")\n",
    "plt.savefig(\"../new_fig.png\", dpi = 800)\n",
    "plt.show()"
   ]
  },
  {
   "cell_type": "markdown",
   "metadata": {},
   "source": [
    "## Configuration of NN with parameters that optimize performance/minimize runtime"
   ]
  },
  {
   "cell_type": "code",
   "execution_count": 60,
   "metadata": {
    "collapsed": false
   },
   "outputs": [
    {
     "name": "stderr",
     "output_type": "stream",
     "text": [
      "/Users/jacksklar/anaconda/lib/python2.7/site-packages/ipykernel/__main__.py:11: RuntimeWarning: overflow encountered in exp\n"
     ]
    },
    {
     "name": "stdout",
     "output_type": "stream",
     "text": [
      "Epoch 1: 0.615000\n"
     ]
    },
    {
     "name": "stderr",
     "output_type": "stream",
     "text": [
      "/Users/jacksklar/anaconda/lib/python2.7/site-packages/ipykernel/__main__.py:93: RuntimeWarning: divide by zero encountered in double_scalars\n"
     ]
    },
    {
     "name": "stdout",
     "output_type": "stream",
     "text": [
      "Epoch 2: 0.682100\n",
      "Epoch 3: 0.706600\n",
      "Epoch 4: 0.714700\n",
      "Epoch 5: 0.727600\n",
      "Epoch 6: 0.733000\n",
      "Epoch 7: 0.742000\n",
      "Epoch 8: 0.755300\n",
      "Epoch 9: 0.749400\n",
      "Epoch 10: 0.765000\n",
      "Epoch 11: 0.759800\n",
      "Epoch 12: 0.766000\n",
      "Epoch 13: 0.770700\n",
      "Epoch 14: 0.775800\n",
      "Epoch 15: 0.779800\n",
      "Epoch 16: 0.780500\n",
      "Epoch 17: 0.784200\n",
      "Epoch 18: 0.787200\n",
      "Epoch 19: 0.792900\n",
      "Epoch 20: 0.795700\n",
      "Epoch 21: 0.799700\n",
      "Epoch 22: 0.798600\n",
      "Epoch 23: 0.797400\n",
      "Epoch 24: 0.797000\n",
      "Epoch 25: 0.805300\n",
      "Epoch 26: 0.803200\n",
      "Epoch 27: 0.807200\n",
      "Epoch 28: 0.803300\n",
      "Epoch 29: 0.805600\n",
      "Epoch 30: 0.807300\n",
      "Training Completed!\n"
     ]
    },
    {
     "data": {
      "image/png": "[encoded data removed]",
      "text/plain": [
       "<matplotlib.figure.Figure at 0x11d342f50>"
      ]
     },
     "metadata": {},
     "output_type": "display_data"
    }
   ],
   "source": [
    "shape = [625, 150, 10]\n",
    "net = Network(shape, 0.1, 0.1, 0.1)\n",
    "opt_150 = net.Stochasitc_Gradient_Descent(train_data, 30, 100, test_data = test_data) \n",
    "plt.plot(range(1,31),np.divide(opt_150[1:],10000.0))\n",
    "plt.savefig(\"../opt_150.png\", dpi = 700)"
   ]
  },
  {
   "cell_type": "code",
   "execution_count": 62,
   "metadata": {
    "collapsed": false
   },
   "outputs": [
    {
     "data": {
      "image/png": "[encoded data removed]",
      "text/plain": [
       "<matplotlib.figure.Figure at 0x11ce77150>"
      ]
     },
     "metadata": {},
     "output_type": "display_data"
    }
   ],
   "source": [
    "plt.plot(range(1,31),np.divide(opt_150[1:],10000.0))\n",
    "plt.xlabel(\"Epochs\")\n",
    "plt.ylabel(\"Test Performance\")\n",
    "plt.savefig(\"../opt_150.png\", dpi = 700)"
   ]
  }
 ],
 "metadata": {
  "kernelspec": {
   "display_name": "Python 2",
   "language": "python",
   "name": "python2"
  },
  "language_info": {
   "codemirror_mode": {
    "name": "ipython",
    "version": 2
   },
   "file_extension": ".py",
   "mimetype": "text/x-python",
   "name": "python",
   "nbconvert_exporter": "python",
   "pygments_lexer": "ipython2",
   "version": "2.7.13"
  }
 },
 "nbformat": 4,
 "nbformat_minor": 2
}
