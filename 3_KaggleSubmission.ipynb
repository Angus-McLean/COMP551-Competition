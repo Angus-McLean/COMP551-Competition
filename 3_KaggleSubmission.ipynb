{
 "cells": [
  {
   "cell_type": "markdown",
   "metadata": {},
   "source": [
    "# Project \\#4: Find the “Largest” Digit"
   ]
  },
  {
   "cell_type": "markdown",
   "metadata": {},
   "source": [
    "# Part 3 : Kaggle Submission"
   ]
  },
  {
   "cell_type": "code",
   "execution_count": 2,
   "metadata": {
    "collapsed": true
   },
   "outputs": [],
   "source": [
    "RUN_NUM = 2"
   ]
  },
  {
   "cell_type": "markdown",
   "metadata": {},
   "source": [
    "## Imports"
   ]
  },
  {
   "cell_type": "code",
   "execution_count": 3,
   "metadata": {
    "collapsed": false
   },
   "outputs": [
    {
     "name": "stderr",
     "output_type": "stream",
     "text": [
      "Using Theano backend.\n",
      "Using gpu device 0: Tesla K80 (CNMeM is disabled, cuDNN 5103)\n",
      "/home/ubuntu/anaconda2/lib/python2.7/site-packages/theano/sandbox/cuda/__init__.py:600: UserWarning: Your cuDNN version is more recent than the one Theano officially supports. If you see any problems, try updating Theano or downgrading cuDNN to version 5.\n",
      "  warnings.warn(warn)\n"
     ]
    }
   ],
   "source": [
    "import numpy as np\n",
    "import pandas as pd\n",
    "import matplotlib.pyplot as plt\n",
    "import matplotlib.image as mpimg\n",
    "\n",
    "%matplotlib inline\n",
    "\n",
    "from sklearn.model_selection import train_test_split\n",
    "from sklearn.metrics import confusion_matrix\n",
    "import sklearn.preprocessing\n",
    "\n",
    "import keras.models\n",
    "import keras.layers\n",
    "import keras.optimizers\n",
    "import keras.preprocessing\n",
    "import keras.preprocessing.image\n",
    "import keras.callbacks"
   ]
  },
  {
   "cell_type": "code",
   "execution_count": 4,
   "metadata": {
    "collapsed": true
   },
   "outputs": [],
   "source": [
    "import preprocessing as pre"
   ]
  },
  {
   "cell_type": "code",
   "execution_count": 5,
   "metadata": {
    "collapsed": false
   },
   "outputs": [
    {
     "data": {
      "text/plain": [
       "<module 'preprocessing' from 'preprocessing.pyc'>"
      ]
     },
     "execution_count": 5,
     "metadata": {},
     "output_type": "execute_result"
    }
   ],
   "source": [
    "# if change preprocessing file need to reload module here..\n",
    "import imp\n",
    "imp.reload(pre)"
   ]
  },
  {
   "cell_type": "markdown",
   "metadata": {},
   "source": [
    "## Read and Preprocess the Data"
   ]
  },
  {
   "cell_type": "code",
   "execution_count": 6,
   "metadata": {
    "collapsed": false
   },
   "outputs": [
    {
     "name": "stdout",
     "output_type": "stream",
     "text": [
      "0_DataPreprocessing2.ipynb   2_Neural_Network.ipynb    preprocessing.py\r\n",
      "0_DataPreprocessing.ipynb    3_KaggleSubmission.ipynb  preprocessing.pyc\r\n",
      "1_BaseLineClassifiers.ipynb  Datasets\t\t       submission1.csv\r\n"
     ]
    }
   ],
   "source": [
    "!ls"
   ]
  },
  {
   "cell_type": "code",
   "execution_count": 7,
   "metadata": {
    "collapsed": false
   },
   "outputs": [
    {
     "name": "stdout",
     "output_type": "stream",
     "text": [
      "notebook.ipynb\t\t  processed_train_x.csv.zip  tmp_x.csv\r\n",
      "processed_sample_x.csv\t  sample_x.csv\t\t     train_x.csv\r\n",
      "processed_test_x.csv\t  sample_y.csv\t\t     train_y.csv\r\n",
      "processed_test_x.csv.zip  submission1.h5\r\n",
      "processed_train_x.csv\t  test_x.csv\r\n"
     ]
    }
   ],
   "source": [
    "!ls ./Datasets"
   ]
  },
  {
   "cell_type": "code",
   "execution_count": 8,
   "metadata": {
    "collapsed": true
   },
   "outputs": [],
   "source": [
    "!head -n 5000 Datasets/train_x.csv > Datasets/sample_x.csv\n",
    "!head -n 5000 Datasets/train_y.csv > Datasets/sample_y.csv"
   ]
  },
  {
   "cell_type": "code",
   "execution_count": 9,
   "metadata": {
    "collapsed": true
   },
   "outputs": [],
   "source": [
    "TARGET_SHAPE = (25,25)"
   ]
  },
  {
   "cell_type": "code",
   "execution_count": 10,
   "metadata": {
    "collapsed": true
   },
   "outputs": [],
   "source": [
    "y = np.loadtxt(\"Datasets/train_y.csv\", delimiter=\",\").reshape(-1, 1)"
   ]
  },
  {
   "cell_type": "code",
   "execution_count": 11,
   "metadata": {
    "collapsed": true
   },
   "outputs": [],
   "source": [
    "y = sklearn.preprocessing.OneHotEncoder().fit_transform(y).toarray()"
   ]
  },
  {
   "cell_type": "code",
   "execution_count": 12,
   "metadata": {
    "collapsed": false
   },
   "outputs": [],
   "source": [
    "#data = np.loadtxt('Datasets/train_x.csv', delimiter=\",\").reshape(-1, 25, 25)\n",
    "data = np.loadtxt('Datasets/processed_train_x.csv', delimiter=\",\").reshape(-1, 25, 25)"
   ]
  },
  {
   "cell_type": "markdown",
   "metadata": {},
   "source": [
    "## Preprocessing"
   ]
  },
  {
   "cell_type": "code",
   "execution_count": 13,
   "metadata": {
    "collapsed": true
   },
   "outputs": [],
   "source": [
    "def originalFlow(img, threshold=255, distance=4, shape=(28,28)):\n",
    "    binImg = pre.toBinary(img, threshold)\n",
    "    grps = pre.connectedCluster(binImg, distance)\n",
    "    sliceBounds = pre.largestBounds([pre.getBounds(grp) for grp in grps])\n",
    "    digit = pre.sliceImg(binImg, sliceBounds)\n",
    "    return pre.scaledStretch(digit, shape)"
   ]
  },
  {
   "cell_type": "code",
   "execution_count": 14,
   "metadata": {
    "collapsed": true
   },
   "outputs": [],
   "source": [
    "def origWithSmoothing(img, **config):\n",
    "    orig = originalFlow(img, **config)\n",
    "    return pre.roundImageBin(orig, 3)"
   ]
  },
  {
   "cell_type": "code",
   "execution_count": 15,
   "metadata": {
    "collapsed": true
   },
   "outputs": [],
   "source": [
    "def betterRounding(img, **config):\n",
    "    shape = config['shape']\n",
    "    orig = originalFlow(img, **config)\n",
    "    tmp = pre.scaledStretch(orig, (int(shape[0]*2), int(shape[1]*2)))\n",
    "    tmp = pre.roundImageBin(tmp, 2)\n",
    "    tmp = pre.getImgCenter(tmp, (int(shape[0]*2), int(shape[1]*2)))\n",
    "    tmp = pre.scaledStretch(tmp, (int(shape[0]), int(shape[1])))\n",
    "    return tmp"
   ]
  },
  {
   "cell_type": "code",
   "execution_count": 16,
   "metadata": {
    "collapsed": true
   },
   "outputs": [],
   "source": [
    "def sliceFromOrig(img, threshold=255, distance=4, shape=(28,28)):\n",
    "    binImg = pre.toBinary(img, threshold)\n",
    "    grps = pre.connectedCluster(binImg, distance)\n",
    "    sliceBounds = pre.largestBounds([pre.getBounds(grp) for grp in grps])\n",
    "    digit = pre.sliceImg(img, sliceBounds)\n",
    "    return pre.scaledStretch(digit, shape)"
   ]
  },
  {
   "cell_type": "code",
   "execution_count": 17,
   "metadata": {
    "collapsed": false
   },
   "outputs": [
    {
     "name": "stderr",
     "output_type": "stream",
     "text": [
      "/home/ubuntu/anaconda2/lib/python2.7/site-packages/skimage/transform/_warps.py:84: UserWarning: The default mode, 'constant', will be changed to 'reflect' in skimage 0.15.\n",
      "  warn(\"The default mode, 'constant', will be changed to 'reflect' in \"\n"
     ]
    },
    {
     "data": {
      "image/png": "[encoded data removed]",
      "text/plain": [
       "<matplotlib.figure.Figure at 0x7f37ec10eb50>"
      ]
     },
     "metadata": {},
     "output_type": "display_data"
    },
    {
     "data": {
      "image/png": "[encoded data removed]",
      "text/plain": [
       "<matplotlib.figure.Figure at 0x7f378c4633d0>"
      ]
     },
     "metadata": {},
     "output_type": "display_data"
    }
   ],
   "source": [
    "config = {'threshold':250, 'distance':2, 'shape':TARGET_SHAPE}\n",
    "pre.displayImgs(data[[0,10,23,46,65,68,82,118]], n_cols=4)\n",
    "pre.displayImgs([sliceFromOrig(d, **config) for d in data[[0,10,23,46,65,68,82,118]]], n_cols=4)"
   ]
  },
  {
   "cell_type": "code",
   "execution_count": 18,
   "metadata": {
    "collapsed": false,
    "scrolled": true
   },
   "outputs": [],
   "source": [
    "# processedData = [sliceFromOrig(d, **config) for d in data]\n",
    "processedData = data"
   ]
  },
  {
   "cell_type": "code",
   "execution_count": 19,
   "metadata": {
    "collapsed": false
   },
   "outputs": [],
   "source": [
    "X_train = np.array(processedData[len(processedData)/5:])\n",
    "Y_train = np.array(y[len(processedData)/5:])\n",
    "X_val = np.array(processedData[:len(processedData)/5])\n",
    "Y_val = np.array(y[:len(processedData)/5])"
   ]
  },
  {
   "cell_type": "code",
   "execution_count": 20,
   "metadata": {
    "collapsed": false
   },
   "outputs": [
    {
     "name": "stdout",
     "output_type": "stream",
     "text": [
      "X_train (40000, 25, 25)\n",
      "Y_train (40000, 10)\n",
      "X_val (10000, 25, 25)\n",
      "Y_val (10000, 10)\n"
     ]
    }
   ],
   "source": [
    "print 'X_train', X_train.shape\n",
    "print 'Y_train', Y_train.shape\n",
    "print 'X_val', X_val.shape\n",
    "print 'Y_val', Y_val.shape"
   ]
  },
  {
   "cell_type": "code",
   "execution_count": 21,
   "metadata": {
    "collapsed": true
   },
   "outputs": [],
   "source": [
    "X_train = X_train.reshape(X_train.shape[0], X_train.shape[1], X_train.shape[2], 1)\n",
    "X_val = X_val.reshape(X_val.shape[0], X_val.shape[1], X_val.shape[2], 1)"
   ]
  },
  {
   "cell_type": "markdown",
   "metadata": {},
   "source": [
    "## Define the Model"
   ]
  },
  {
   "cell_type": "code",
   "execution_count": 22,
   "metadata": {
    "collapsed": true
   },
   "outputs": [],
   "source": [
    "from keras import backend as K\n",
    "#refer to : https://github.com/keras-team/keras/issues/2681#issuecomment-257157218\n",
    "K.set_image_dim_ordering('tf')"
   ]
  },
  {
   "cell_type": "code",
   "execution_count": 103,
   "metadata": {
    "collapsed": false
   },
   "outputs": [],
   "source": [
    "model = keras.models.Sequential()\n",
    "\n",
    "input_shape=(TARGET_SHAPE[0],TARGET_SHAPE[1], 1)\n",
    "model.add(keras.layers.Conv2D(32, nb_row=5, nb_col=5, border_mode='same', activation='relu', input_shape=input_shape))\n",
    "model.add(keras.layers.Conv2D(32, nb_row=5, nb_col=5, border_mode='same', activation ='relu'))\n",
    "model.add(keras.layers.MaxPooling2D(pool_size=(2,2)))\n",
    "model.add(keras.layers.Dropout(0.25))\n",
    "\n",
    "\n",
    "model.add(keras.layers.Conv2D(64, nb_row=3, nb_col=3, border_mode='same', activation='relu'))\n",
    "model.add(keras.layers.Conv2D(64, nb_row=3, nb_col=3, border_mode='same', activation='relu'))\n",
    "model.add(keras.layers.MaxPooling2D(pool_size=(2,2), strides=(2,2)))\n",
    "model.add(keras.layers.Dropout(0.25))\n",
    "\n",
    "\n",
    "model.add(keras.layers.Conv2D(28, nb_row=2, nb_col=2, border_mode='same', activation='relu'))\n",
    "model.add(keras.layers.MaxPooling2D(pool_size=(2,2), strides=(2,2)))\n",
    "model.add(keras.layers.Dropout(0.1))\n",
    "\n",
    "\n",
    "model.add(keras.layers.Flatten())\n",
    "model.add(keras.layers.Dense(256, activation = \"relu\"))\n",
    "model.add(keras.layers.Dropout(0.5))\n",
    "model.add(keras.layers.Dense(10, activation = \"softmax\"))"
   ]
  },
  {
   "cell_type": "code",
   "execution_count": 104,
   "metadata": {
    "collapsed": true
   },
   "outputs": [],
   "source": [
    "optimizer = keras.optimizers.RMSprop(lr=0.001, rho=0.9, epsilon=1e-08, decay=0.0)\n",
    "model.compile(optimizer = optimizer , loss = \"categorical_crossentropy\", metrics=[\"accuracy\"])"
   ]
  },
  {
   "cell_type": "code",
   "execution_count": 25,
   "metadata": {
    "collapsed": false
   },
   "outputs": [],
   "source": [
    "datagen = keras.preprocessing.image.ImageDataGenerator(\n",
    "        featurewise_center=False,  # set input mean to 0 over the dataset\n",
    "        samplewise_center=False,  # set each sample mean to 0\n",
    "        featurewise_std_normalization=False,  # divide inputs by std of the dataset\n",
    "        samplewise_std_normalization=False,  # divide each input by its std\n",
    "        zca_whitening=False,  # apply ZCA whitening\n",
    "        rotation_range=10,  # randomly rotate images in the range (degrees, 0 to 180)\n",
    "        zoom_range = 0.1, # Randomly zoom image \n",
    "        width_shift_range=0.1,  # randomly shift images horizontally (fraction of total width)\n",
    "        height_shift_range=0.1,  # randomly shift images vertically (fraction of total height)\n",
    "        horizontal_flip=False,  # randomly flip images\n",
    "        vertical_flip=False)  # randomly flip images\n",
    "\n",
    "datagen.fit(X_train)"
   ]
  },
  {
   "cell_type": "code",
   "execution_count": 105,
   "metadata": {
    "collapsed": true
   },
   "outputs": [],
   "source": [
    "epochs = 30\n",
    "batch_size = 86"
   ]
  },
  {
   "cell_type": "code",
   "execution_count": 84,
   "metadata": {
    "collapsed": true
   },
   "outputs": [],
   "source": [
    "def scheduler(epoch):\n",
    "    if epoch%3 == 0 and epoch!=0:\n",
    "        model.optimizer.lr.set_value(model.optimizer.lr.get_value()/2.0)\n",
    "    print 'current lr', model.optimizer.lr.get_value()\n",
    "    return float(model.optimizer.lr.get_value())\n",
    "\n",
    "change_lr = keras.callbacks.LearningRateScheduler(scheduler)"
   ]
  },
  {
   "cell_type": "code",
   "execution_count": 106,
   "metadata": {
    "collapsed": false,
    "scrolled": true
   },
   "outputs": [
    {
     "name": "stdout",
     "output_type": "stream",
     "text": [
      "current lr 0.0010000000475\n",
      "Epoch 1/30\n",
      "32s - loss: 1.1214 - acc: 0.6469 - val_loss: 0.4969 - val_acc: 0.8677\n",
      "current lr 0.0010000000475\n",
      "Epoch 2/30\n",
      "32s - loss: 0.6096 - acc: 0.8309 - val_loss: 0.5656 - val_acc: 0.8569\n",
      "current lr 0.0010000000475\n",
      "Epoch 3/30\n",
      "32s - loss: 0.5273 - acc: 0.8546 - val_loss: 0.4203 - val_acc: 0.8889\n",
      "current lr 0.000500000023749\n",
      "Epoch 4/30\n",
      "32s - loss: 0.4592 - acc: 0.8734 - val_loss: 0.3431 - val_acc: 0.9044\n",
      "current lr 0.000500000023749\n",
      "Epoch 5/30\n",
      "32s - loss: 0.4331 - acc: 0.8797 - val_loss: 0.3528 - val_acc: 0.9044\n",
      "current lr 0.000500000023749\n",
      "Epoch 6/30\n",
      "32s - loss: 0.4290 - acc: 0.8825 - val_loss: 0.3335 - val_acc: 0.9094\n",
      "current lr 0.000250000011874\n",
      "Epoch 7/30\n",
      "32s - loss: 0.4038 - acc: 0.8886 - val_loss: 0.3178 - val_acc: 0.9136\n",
      "current lr 0.000250000011874\n",
      "Epoch 8/30\n",
      "32s - loss: 0.3974 - acc: 0.8898 - val_loss: 0.3105 - val_acc: 0.9130\n",
      "current lr 0.000250000011874\n",
      "Epoch 9/30\n",
      "32s - loss: 0.3931 - acc: 0.8936 - val_loss: 0.3053 - val_acc: 0.9170\n",
      "current lr 0.000125000005937\n",
      "Epoch 10/30\n",
      "32s - loss: 0.3780 - acc: 0.8946 - val_loss: 0.3061 - val_acc: 0.9164\n",
      "current lr 0.000125000005937\n",
      "Epoch 11/30\n",
      "32s - loss: 0.3770 - acc: 0.8958 - val_loss: 0.2999 - val_acc: 0.9173\n",
      "current lr 0.000125000005937\n",
      "Epoch 12/30\n",
      "33s - loss: 0.3750 - acc: 0.8959 - val_loss: 0.3064 - val_acc: 0.9154\n",
      "current lr 6.25000029686e-05\n",
      "Epoch 13/30\n",
      "33s - loss: 0.3680 - acc: 0.8987 - val_loss: 0.2955 - val_acc: 0.9183\n",
      "current lr 6.25000029686e-05\n",
      "Epoch 14/30\n",
      "33s - loss: 0.3656 - acc: 0.8986 - val_loss: 0.2963 - val_acc: 0.9178\n",
      "current lr 6.25000029686e-05\n",
      "Epoch 15/30\n",
      "33s - loss: 0.3622 - acc: 0.8999 - val_loss: 0.2962 - val_acc: 0.9178\n",
      "current lr 3.12500014843e-05\n",
      "Epoch 16/30\n",
      "33s - loss: 0.3585 - acc: 0.9006 - val_loss: 0.2959 - val_acc: 0.9176\n",
      "current lr 3.12500014843e-05\n",
      "Epoch 17/30\n",
      "33s - loss: 0.3610 - acc: 0.8988 - val_loss: 0.2929 - val_acc: 0.9192\n",
      "current lr 3.12500014843e-05\n",
      "Epoch 18/30\n",
      "33s - loss: 0.3623 - acc: 0.8996 - val_loss: 0.2943 - val_acc: 0.9174\n",
      "current lr 1.56250007421e-05\n",
      "Epoch 19/30\n",
      "33s - loss: 0.3592 - acc: 0.9003 - val_loss: 0.2943 - val_acc: 0.9195\n",
      "current lr 1.56250007421e-05\n",
      "Epoch 20/30\n",
      "33s - loss: 0.3591 - acc: 0.9009 - val_loss: 0.2928 - val_acc: 0.9190\n",
      "current lr 1.56250007421e-05\n",
      "Epoch 21/30\n",
      "33s - loss: 0.3591 - acc: 0.9018 - val_loss: 0.2921 - val_acc: 0.9201\n",
      "current lr 7.81250037107e-06\n",
      "Epoch 22/30\n",
      "33s - loss: 0.3569 - acc: 0.9007 - val_loss: 0.2925 - val_acc: 0.9192\n",
      "current lr 7.81250037107e-06\n",
      "Epoch 23/30\n",
      "33s - loss: 0.3513 - acc: 0.9024 - val_loss: 0.2932 - val_acc: 0.9189\n",
      "current lr 7.81250037107e-06\n",
      "Epoch 24/30\n",
      "33s - loss: 0.3546 - acc: 0.9026 - val_loss: 0.2926 - val_acc: 0.9190\n",
      "current lr 3.90625018554e-06\n",
      "Epoch 25/30\n",
      "33s - loss: 0.3598 - acc: 0.9005 - val_loss: 0.2917 - val_acc: 0.9190\n",
      "current lr 3.90625018554e-06\n",
      "Epoch 26/30\n",
      "33s - loss: 0.3543 - acc: 0.9020 - val_loss: 0.2916 - val_acc: 0.9187\n",
      "current lr 3.90625018554e-06\n",
      "Epoch 27/30\n",
      "33s - loss: 0.3556 - acc: 0.9023 - val_loss: 0.2920 - val_acc: 0.9191\n",
      "current lr 1.95312509277e-06\n",
      "Epoch 28/30\n",
      "33s - loss: 0.3557 - acc: 0.9024 - val_loss: 0.2919 - val_acc: 0.9190\n",
      "current lr 1.95312509277e-06\n",
      "Epoch 29/30\n",
      "33s - loss: 0.3547 - acc: 0.9032 - val_loss: 0.2919 - val_acc: 0.9192\n",
      "current lr 1.95312509277e-06\n",
      "Epoch 30/30\n",
      "33s - loss: 0.3549 - acc: 0.9012 - val_loss: 0.2920 - val_acc: 0.9192\n"
     ]
    }
   ],
   "source": [
    "history = model.fit_generator(\n",
    "    datagen.flow(X_train,Y_train, batch_size=batch_size), samples_per_epoch=X_train.shape[0],\n",
    "#history = model.fit(\n",
    "#    X_train,Y_train, batch_size=batch_size,\n",
    "    nb_epoch=epochs,\n",
    "    validation_data = (X_val, Y_val),\n",
    "    verbose=2\n",
    "    ,callbacks=[change_lr]\n",
    ")"
   ]
  },
  {
   "cell_type": "code",
   "execution_count": 108,
   "metadata": {
    "collapsed": false
   },
   "outputs": [],
   "source": [
    "model.save_weights('Datasets/submission'+str(RUN_NUM)+'.h5')"
   ]
  },
  {
   "cell_type": "code",
   "execution_count": 88,
   "metadata": {
    "collapsed": true
   },
   "outputs": [],
   "source": [
    "X_val_pred = model.predict(X_val)"
   ]
  },
  {
   "cell_type": "code",
   "execution_count": 94,
   "metadata": {
    "collapsed": false
   },
   "outputs": [],
   "source": [
    "X_val_noonehot = [np.argmax(a) for a in X_val_pred]\n",
    "Y_val_noonehot = [np.argmax(a) for a in Y_val]\n",
    "tmps = np.equal(X_val_noonehot, Y_val_noonehot)\n",
    "inds = np.where(tmps == False)[0]"
   ]
  },
  {
   "cell_type": "code",
   "execution_count": 97,
   "metadata": {
    "collapsed": false,
    "scrolled": true
   },
   "outputs": [
    {
     "data": {
      "text/plain": [
       "array([  10,   46,   65,   68,   78,   79,   82,  118,  128,  174,  194,\n",
       "        208,  213,  222,  226,  245,  284,  298,  305,  307,  322,  334,\n",
       "        336,  349,  370,  384,  408,  409,  443,  453,  509,  513,  515,\n",
       "        523,  529,  542,  546,  555,  561,  562,  570,  598,  606,  635,\n",
       "        645,  669,  688,  693,  700,  715,  717,  722,  724,  725,  738,\n",
       "        751,  765,  768,  781,  797,  808,  819,  820,  827,  835,  841,\n",
       "        850,  868,  896,  897,  902,  904,  911,  926,  936,  940,  944,\n",
       "        945,  956,  966,  968,  970,  982,  988, 1067, 1084, 1113, 1136,\n",
       "       1146, 1150, 1164, 1169, 1195, 1202, 1204, 1212, 1214, 1233, 1255,\n",
       "       1266, 1287, 1293, 1323, 1346, 1348, 1360, 1374, 1381, 1392, 1417,\n",
       "       1432, 1437, 1452, 1464, 1466, 1467, 1471, 1487, 1488, 1492, 1496,\n",
       "       1517, 1534, 1546, 1563, 1588, 1593, 1609, 1614, 1637, 1658, 1659,\n",
       "       1679, 1684, 1733, 1736, 1741, 1781, 1808, 1812, 1813, 1843, 1854,\n",
       "       1860, 1863, 1865, 1872, 1882, 1884, 1906, 1943, 1956, 1960, 1961,\n",
       "       1967, 1973, 1978, 1990, 1992, 2002, 2011, 2039, 2043, 2063, 2076,\n",
       "       2082, 2099, 2113, 2121, 2129, 2131, 2137, 2142, 2154, 2156, 2161,\n",
       "       2179, 2193, 2209, 2223, 2230, 2254, 2262, 2274, 2278, 2289, 2294,\n",
       "       2295, 2303, 2313, 2333, 2335, 2336, 2338, 2398, 2406, 2426, 2432,\n",
       "       2454, 2464, 2497, 2510, 2546, 2549, 2569, 2579, 2583, 2598, 2618,\n",
       "       2620, 2623, 2633, 2659, 2679, 2681, 2684, 2685, 2698, 2704, 2714,\n",
       "       2715, 2728, 2754, 2760, 2773, 2807, 2808, 2810, 2812, 2824, 2845,\n",
       "       2867, 2881, 2885, 2909, 2924, 2947, 2948, 2952, 2957, 3028, 3033,\n",
       "       3045, 3050, 3063, 3069, 3091, 3095, 3120, 3150, 3169, 3175, 3199,\n",
       "       3219, 3246, 3283, 3292, 3297, 3336, 3371, 3373, 3380, 3383, 3395,\n",
       "       3411, 3414, 3440, 3443, 3451, 3485, 3498, 3502, 3507, 3531, 3591,\n",
       "       3604, 3610, 3611, 3620, 3626, 3628, 3638, 3642, 3662, 3674, 3676,\n",
       "       3678, 3681, 3682, 3685, 3691, 3695, 3696, 3700, 3722, 3738, 3745,\n",
       "       3751, 3769, 3777, 3783, 3875, 3886, 3891, 3914, 3927, 3936, 3939,\n",
       "       3945, 3957, 3977, 4007, 4013, 4015, 4055, 4056, 4057, 4058, 4080,\n",
       "       4084, 4125, 4130, 4158, 4160, 4172, 4177, 4183, 4192, 4197, 4198,\n",
       "       4220, 4226, 4251, 4253, 4263, 4293, 4299, 4309, 4315, 4317, 4342,\n",
       "       4353, 4363, 4367, 4387, 4390, 4392, 4399, 4415, 4420, 4425, 4432,\n",
       "       4447, 4450, 4452, 4459, 4460, 4461, 4479, 4547, 4555, 4563, 4568,\n",
       "       4569, 4610, 4616, 4634, 4645, 4649, 4659, 4660, 4677, 4694, 4702,\n",
       "       4704, 4714, 4736, 4743, 4781, 4790, 4812, 4844, 4873, 4876, 4880,\n",
       "       4885, 4893, 4919, 4940, 4946, 4953, 4962, 4966, 4983, 5000, 5043,\n",
       "       5049, 5054, 5056, 5083, 5093, 5123, 5135, 5159, 5169, 5171, 5194,\n",
       "       5199, 5205, 5217, 5228, 5232, 5234, 5262, 5264, 5275, 5278, 5287,\n",
       "       5299, 5300, 5304, 5309, 5312, 5366, 5369, 5406, 5425, 5453, 5469,\n",
       "       5506, 5514, 5523, 5526, 5548, 5580, 5590, 5593, 5609, 5610, 5627,\n",
       "       5630, 5634, 5640, 5648, 5659, 5670, 5686, 5705, 5713, 5720, 5724,\n",
       "       5755, 5773, 5782, 5789, 5797, 5802, 5827, 5830, 5858, 5898, 5909,\n",
       "       5925, 5936, 5946, 5997, 6001, 6023, 6033, 6034, 6036, 6052, 6054,\n",
       "       6075, 6142, 6150, 6191, 6192, 6207, 6221, 6239, 6240, 6262, 6269,\n",
       "       6275, 6279, 6291, 6305, 6336, 6340, 6357, 6364, 6378, 6379, 6400,\n",
       "       6411, 6442, 6444, 6448, 6459, 6463, 6470, 6473, 6480, 6484, 6485,\n",
       "       6488, 6492, 6496, 6498, 6507, 6527, 6532, 6542, 6545, 6552, 6555,\n",
       "       6560, 6570, 6573, 6578, 6590, 6599, 6616, 6674, 6679, 6684, 6690,\n",
       "       6706, 6708, 6738, 6746, 6762, 6764, 6769, 6783, 6802, 6819, 6835,\n",
       "       6838, 6841, 6848, 6854, 6878, 6904, 6915, 6944, 6949, 6970, 6992,\n",
       "       7008, 7009, 7022, 7030, 7047, 7050, 7051, 7053, 7058, 7066, 7109,\n",
       "       7110, 7118, 7124, 7128, 7147, 7155, 7156, 7172, 7200, 7278, 7289,\n",
       "       7311, 7334, 7341, 7345, 7370, 7390, 7416, 7419, 7428, 7431, 7436,\n",
       "       7439, 7449, 7459, 7462, 7489, 7511, 7516, 7538, 7543, 7549, 7568,\n",
       "       7600, 7609, 7614, 7617, 7618, 7622, 7626, 7651, 7657, 7658, 7661,\n",
       "       7670, 7680, 7686, 7718, 7735, 7750, 7763, 7767, 7797, 7813, 7830,\n",
       "       7846, 7852, 7872, 7890, 7892, 7908, 7926, 7938, 7988, 8012, 8016,\n",
       "       8029, 8050, 8066, 8067, 8109, 8130, 8147, 8153, 8160, 8161, 8168,\n",
       "       8176, 8195, 8202, 8228, 8245, 8257, 8268, 8287, 8294, 8300, 8316,\n",
       "       8318, 8332, 8336, 8337, 8358, 8394, 8397, 8401, 8407, 8410, 8420,\n",
       "       8428, 8435, 8436, 8444, 8464, 8498, 8528, 8530, 8533, 8535, 8553,\n",
       "       8572, 8575, 8579, 8587, 8591, 8592, 8593, 8595, 8615, 8622, 8659,\n",
       "       8663, 8670, 8722, 8731, 8739, 8749, 8751, 8756, 8765, 8802, 8803,\n",
       "       8824, 8833, 8838, 8863, 8881, 8903, 8914, 8920, 8934, 8957, 8958,\n",
       "       8960, 8965, 9017, 9026, 9043, 9084, 9095, 9116, 9127, 9128, 9137,\n",
       "       9147, 9230, 9264, 9269, 9316, 9327, 9349, 9352, 9355, 9363, 9373,\n",
       "       9388, 9398, 9405, 9433, 9436, 9465, 9508, 9519, 9526, 9535, 9541,\n",
       "       9563, 9579, 9587, 9616, 9631, 9663, 9666, 9673, 9694, 9704, 9732,\n",
       "       9737, 9745, 9755, 9774, 9777, 9824, 9831, 9861, 9877, 9900, 9927,\n",
       "       9935, 9936, 9966, 9969, 9973, 9983, 9995])"
      ]
     },
     "execution_count": 97,
     "metadata": {},
     "output_type": "execute_result"
    }
   ],
   "source": [
    "inds"
   ]
  },
  {
   "cell_type": "code",
   "execution_count": 91,
   "metadata": {
    "collapsed": false
   },
   "outputs": [
    {
     "name": "stdout",
     "output_type": "stream",
     "text": [
      "(imageNum, prediction, actual)\n"
     ]
    },
    {
     "data": {
      "text/plain": [
       "<matplotlib.image.AxesImage at 0x7f3773b0a690>"
      ]
     },
     "execution_count": 91,
     "metadata": {},
     "output_type": "execute_result"
    },
    {
     "data": {
      "image/png": "[encoded data removed]",
      "text/plain": [
       "<matplotlib.figure.Figure at 0x7f3732011e90>"
      ]
     },
     "metadata": {},
     "output_type": "display_data"
    }
   ],
   "source": [
    "f, axarr = plt.subplots(2, 4)\n",
    "f.subplots_adjust(hspace=0.5)\n",
    "print '(imageNum, prediction, actual)'\n",
    "axarr[0][0].set_title((inds[0][10], X_val_noonehot[inds[0][10]], Y_val_noonehot[inds[0][10]]))\n",
    "axarr[0][0].imshow(X_val[inds[0][10]].reshape((25,25)), cmap='hot', interpolation='nearest')\n",
    "axarr[0][1].set_title((inds[0][11], X_val_noonehot[inds[0][11]], Y_val_noonehot[inds[0][11]]))\n",
    "axarr[0][1].imshow(X_val[inds[0][11]].reshape((25,25)), cmap='hot', interpolation='nearest')\n",
    "axarr[0][2].set_title((inds[0][12], X_val_noonehot[inds[0][12]], Y_val_noonehot[inds[0][12]]))\n",
    "axarr[0][2].imshow(X_val[inds[0][12]].reshape((25,25)), cmap='hot', interpolation='nearest')\n",
    "axarr[0][3].set_title((inds[0][13], X_val_noonehot[inds[0][13]], Y_val_noonehot[inds[0][13]]))\n",
    "axarr[0][3].imshow(X_val[inds[0][13]].reshape((25,25)), cmap='hot', interpolation='nearest')\n",
    "axarr[1][0].set_title((inds[0][14], X_val_noonehot[inds[0][14]], Y_val_noonehot[inds[0][14]]))\n",
    "axarr[1][0].imshow(X_val[inds[0][14]].reshape((25,25)), cmap='hot', interpolation='nearest')\n",
    "axarr[1][1].set_title((inds[0][15], X_val_noonehot[inds[0][15]], Y_val_noonehot[inds[0][15]]))\n",
    "axarr[1][1].imshow(X_val[inds[0][15]].reshape((25,25)), cmap='hot', interpolation='nearest')\n",
    "axarr[1][2].set_title((inds[0][16], X_val_noonehot[inds[0][16]], Y_val_noonehot[inds[0][16]]))\n",
    "axarr[1][2].imshow(X_val[inds[0][16]].reshape((25,25)), cmap='hot', interpolation='nearest')\n",
    "axarr[1][3].set_title((inds[0][17], X_val_noonehot[inds[0][17]], Y_val_noonehot[inds[0][17]]))\n",
    "axarr[1][3].imshow(X_val[inds[0][17]].reshape((25,25)), cmap='hot', interpolation='nearest')"
   ]
  },
  {
   "cell_type": "code",
   "execution_count": 102,
   "metadata": {
    "collapsed": true
   },
   "outputs": [],
   "source": [
    "??pre.displayImgs"
   ]
  },
  {
   "cell_type": "code",
   "execution_count": 101,
   "metadata": {
    "collapsed": false
   },
   "outputs": [
    {
     "data": {
      "image/png": "[encoded data removed]",
      "text/plain": [
       "<matplotlib.figure.Figure at 0x7f373018e8d0>"
      ]
     },
     "metadata": {},
     "output_type": "display_data"
    },
    {
     "data": {
      "image/png": "[encoded data removed]",
      "text/plain": [
       "<matplotlib.figure.Figure at 0x7f373018e610>"
      ]
     },
     "metadata": {},
     "output_type": "display_data"
    }
   ],
   "source": [
    "(inds[0][17], X_val_noonehot[inds[0][17]], Y_val_noonehot[inds[0][17]])\n",
    "pre.displayImgs(X_val[inds[:8]].reshape(-1,25,25), titles=, n_cols=4)\n",
    "pre.displayImgs(X_val[inds[8:16]].reshape(-1,25,25), n_cols=4)"
   ]
  },
  {
   "cell_type": "markdown",
   "metadata": {
    "collapsed": true
   },
   "source": [
    "## Making submission"
   ]
  },
  {
   "cell_type": "code",
   "execution_count": 109,
   "metadata": {
    "collapsed": false
   },
   "outputs": [
    {
     "name": "stdout",
     "output_type": "stream",
     "text": [
      "notebook.ipynb\t\t  processed_train_x.csv.zip  test_x.csv\r\n",
      "processed_sample_x.csv\t  sample_x.csv\t\t     tmp_x.csv\r\n",
      "processed_test_x.csv\t  sample_y.csv\t\t     train_x.csv\r\n",
      "processed_test_x.csv.zip  submission1.h5\t     train_y.csv\r\n",
      "processed_train_x.csv\t  submission2.h5\r\n"
     ]
    }
   ],
   "source": [
    "!ls Datasets/"
   ]
  },
  {
   "cell_type": "code",
   "execution_count": 110,
   "metadata": {
    "collapsed": true
   },
   "outputs": [],
   "source": [
    "X_test = np.loadtxt('Datasets/processed_test_x.csv', delimiter=\",\").reshape(-1, TARGET_SHAPE[0], TARGET_SHAPE[1])"
   ]
  },
  {
   "cell_type": "code",
   "execution_count": 112,
   "metadata": {
    "collapsed": false
   },
   "outputs": [
    {
     "data": {
      "text/plain": [
       "<matplotlib.image.AxesImage at 0x7f3730577d10>"
      ]
     },
     "execution_count": 112,
     "metadata": {},
     "output_type": "execute_result"
    },
    {
     "data": {
      "image/png": "[encoded data removed]",
      "text/plain": [
       "<matplotlib.figure.Figure at 0x7f3730188450>"
      ]
     },
     "metadata": {},
     "output_type": "display_data"
    }
   ],
   "source": [
    "plt.imshow(X_test[0])"
   ]
  },
  {
   "cell_type": "code",
   "execution_count": 113,
   "metadata": {
    "collapsed": false
   },
   "outputs": [],
   "source": [
    "X_test = X_test.reshape(X_test.shape[0], X_test.shape[1], X_test.shape[2], 1)"
   ]
  },
  {
   "cell_type": "code",
   "execution_count": 114,
   "metadata": {
    "collapsed": true
   },
   "outputs": [],
   "source": [
    "X_test_pred = model.predict(X_test)"
   ]
  },
  {
   "cell_type": "code",
   "execution_count": 115,
   "metadata": {
    "collapsed": false
   },
   "outputs": [
    {
     "data": {
      "text/plain": [
       "(10000, 10)"
      ]
     },
     "execution_count": 115,
     "metadata": {},
     "output_type": "execute_result"
    }
   ],
   "source": [
    "X_test_pred.shape"
   ]
  },
  {
   "cell_type": "code",
   "execution_count": 116,
   "metadata": {
    "collapsed": false
   },
   "outputs": [],
   "source": [
    "X_test_noonehot = [np.argmax(a) for a in X_test_pred]"
   ]
  },
  {
   "cell_type": "code",
   "execution_count": 117,
   "metadata": {
    "collapsed": false
   },
   "outputs": [
    {
     "data": {
      "text/plain": [
       "10000"
      ]
     },
     "execution_count": 117,
     "metadata": {},
     "output_type": "execute_result"
    }
   ],
   "source": [
    "len(X_test_noonehot)"
   ]
  },
  {
   "cell_type": "code",
   "execution_count": 118,
   "metadata": {
    "collapsed": true
   },
   "outputs": [],
   "source": [
    "csvData = {'Label' : X_test_noonehot}\n",
    "df = pd.DataFrame(data=csvData)"
   ]
  },
  {
   "cell_type": "code",
   "execution_count": 119,
   "metadata": {
    "collapsed": false,
    "scrolled": true
   },
   "outputs": [
    {
     "data": {
      "text/html": [
       "<div>\n",
       "<style>\n",
       "    .dataframe thead tr:only-child th {\n",
       "        text-align: right;\n",
       "    }\n",
       "\n",
       "    .dataframe thead th {\n",
       "        text-align: left;\n",
       "    }\n",
       "\n",
       "    .dataframe tbody tr th {\n",
       "        vertical-align: top;\n",
       "    }\n",
       "</style>\n",
       "<table border=\"1\" class=\"dataframe\">\n",
       "  <thead>\n",
       "    <tr style=\"text-align: right;\">\n",
       "      <th></th>\n",
       "      <th>Label</th>\n",
       "    </tr>\n",
       "  </thead>\n",
       "  <tbody>\n",
       "    <tr>\n",
       "      <th>0</th>\n",
       "      <td>7</td>\n",
       "    </tr>\n",
       "    <tr>\n",
       "      <th>1</th>\n",
       "      <td>2</td>\n",
       "    </tr>\n",
       "    <tr>\n",
       "      <th>2</th>\n",
       "      <td>0</td>\n",
       "    </tr>\n",
       "    <tr>\n",
       "      <th>3</th>\n",
       "      <td>7</td>\n",
       "    </tr>\n",
       "    <tr>\n",
       "      <th>4</th>\n",
       "      <td>6</td>\n",
       "    </tr>\n",
       "    <tr>\n",
       "      <th>5</th>\n",
       "      <td>1</td>\n",
       "    </tr>\n",
       "    <tr>\n",
       "      <th>6</th>\n",
       "      <td>5</td>\n",
       "    </tr>\n",
       "    <tr>\n",
       "      <th>7</th>\n",
       "      <td>3</td>\n",
       "    </tr>\n",
       "    <tr>\n",
       "      <th>8</th>\n",
       "      <td>8</td>\n",
       "    </tr>\n",
       "    <tr>\n",
       "      <th>9</th>\n",
       "      <td>1</td>\n",
       "    </tr>\n",
       "    <tr>\n",
       "      <th>10</th>\n",
       "      <td>5</td>\n",
       "    </tr>\n",
       "    <tr>\n",
       "      <th>11</th>\n",
       "      <td>2</td>\n",
       "    </tr>\n",
       "    <tr>\n",
       "      <th>12</th>\n",
       "      <td>9</td>\n",
       "    </tr>\n",
       "    <tr>\n",
       "      <th>13</th>\n",
       "      <td>1</td>\n",
       "    </tr>\n",
       "    <tr>\n",
       "      <th>14</th>\n",
       "      <td>0</td>\n",
       "    </tr>\n",
       "    <tr>\n",
       "      <th>15</th>\n",
       "      <td>2</td>\n",
       "    </tr>\n",
       "    <tr>\n",
       "      <th>16</th>\n",
       "      <td>3</td>\n",
       "    </tr>\n",
       "    <tr>\n",
       "      <th>17</th>\n",
       "      <td>0</td>\n",
       "    </tr>\n",
       "    <tr>\n",
       "      <th>18</th>\n",
       "      <td>0</td>\n",
       "    </tr>\n",
       "    <tr>\n",
       "      <th>19</th>\n",
       "      <td>3</td>\n",
       "    </tr>\n",
       "    <tr>\n",
       "      <th>20</th>\n",
       "      <td>3</td>\n",
       "    </tr>\n",
       "    <tr>\n",
       "      <th>21</th>\n",
       "      <td>0</td>\n",
       "    </tr>\n",
       "    <tr>\n",
       "      <th>22</th>\n",
       "      <td>6</td>\n",
       "    </tr>\n",
       "    <tr>\n",
       "      <th>23</th>\n",
       "      <td>1</td>\n",
       "    </tr>\n",
       "    <tr>\n",
       "      <th>24</th>\n",
       "      <td>4</td>\n",
       "    </tr>\n",
       "    <tr>\n",
       "      <th>25</th>\n",
       "      <td>0</td>\n",
       "    </tr>\n",
       "    <tr>\n",
       "      <th>26</th>\n",
       "      <td>2</td>\n",
       "    </tr>\n",
       "    <tr>\n",
       "      <th>27</th>\n",
       "      <td>8</td>\n",
       "    </tr>\n",
       "    <tr>\n",
       "      <th>28</th>\n",
       "      <td>3</td>\n",
       "    </tr>\n",
       "    <tr>\n",
       "      <th>29</th>\n",
       "      <td>0</td>\n",
       "    </tr>\n",
       "    <tr>\n",
       "      <th>...</th>\n",
       "      <td>...</td>\n",
       "    </tr>\n",
       "    <tr>\n",
       "      <th>9970</th>\n",
       "      <td>5</td>\n",
       "    </tr>\n",
       "    <tr>\n",
       "      <th>9971</th>\n",
       "      <td>4</td>\n",
       "    </tr>\n",
       "    <tr>\n",
       "      <th>9972</th>\n",
       "      <td>9</td>\n",
       "    </tr>\n",
       "    <tr>\n",
       "      <th>9973</th>\n",
       "      <td>4</td>\n",
       "    </tr>\n",
       "    <tr>\n",
       "      <th>9974</th>\n",
       "      <td>0</td>\n",
       "    </tr>\n",
       "    <tr>\n",
       "      <th>9975</th>\n",
       "      <td>4</td>\n",
       "    </tr>\n",
       "    <tr>\n",
       "      <th>9976</th>\n",
       "      <td>8</td>\n",
       "    </tr>\n",
       "    <tr>\n",
       "      <th>9977</th>\n",
       "      <td>1</td>\n",
       "    </tr>\n",
       "    <tr>\n",
       "      <th>9978</th>\n",
       "      <td>3</td>\n",
       "    </tr>\n",
       "    <tr>\n",
       "      <th>9979</th>\n",
       "      <td>9</td>\n",
       "    </tr>\n",
       "    <tr>\n",
       "      <th>9980</th>\n",
       "      <td>7</td>\n",
       "    </tr>\n",
       "    <tr>\n",
       "      <th>9981</th>\n",
       "      <td>0</td>\n",
       "    </tr>\n",
       "    <tr>\n",
       "      <th>9982</th>\n",
       "      <td>6</td>\n",
       "    </tr>\n",
       "    <tr>\n",
       "      <th>9983</th>\n",
       "      <td>7</td>\n",
       "    </tr>\n",
       "    <tr>\n",
       "      <th>9984</th>\n",
       "      <td>8</td>\n",
       "    </tr>\n",
       "    <tr>\n",
       "      <th>9985</th>\n",
       "      <td>7</td>\n",
       "    </tr>\n",
       "    <tr>\n",
       "      <th>9986</th>\n",
       "      <td>3</td>\n",
       "    </tr>\n",
       "    <tr>\n",
       "      <th>9987</th>\n",
       "      <td>3</td>\n",
       "    </tr>\n",
       "    <tr>\n",
       "      <th>9988</th>\n",
       "      <td>6</td>\n",
       "    </tr>\n",
       "    <tr>\n",
       "      <th>9989</th>\n",
       "      <td>7</td>\n",
       "    </tr>\n",
       "    <tr>\n",
       "      <th>9990</th>\n",
       "      <td>2</td>\n",
       "    </tr>\n",
       "    <tr>\n",
       "      <th>9991</th>\n",
       "      <td>2</td>\n",
       "    </tr>\n",
       "    <tr>\n",
       "      <th>9992</th>\n",
       "      <td>3</td>\n",
       "    </tr>\n",
       "    <tr>\n",
       "      <th>9993</th>\n",
       "      <td>9</td>\n",
       "    </tr>\n",
       "    <tr>\n",
       "      <th>9994</th>\n",
       "      <td>2</td>\n",
       "    </tr>\n",
       "    <tr>\n",
       "      <th>9995</th>\n",
       "      <td>7</td>\n",
       "    </tr>\n",
       "    <tr>\n",
       "      <th>9996</th>\n",
       "      <td>9</td>\n",
       "    </tr>\n",
       "    <tr>\n",
       "      <th>9997</th>\n",
       "      <td>1</td>\n",
       "    </tr>\n",
       "    <tr>\n",
       "      <th>9998</th>\n",
       "      <td>3</td>\n",
       "    </tr>\n",
       "    <tr>\n",
       "      <th>9999</th>\n",
       "      <td>8</td>\n",
       "    </tr>\n",
       "  </tbody>\n",
       "</table>\n",
       "<p>10000 rows × 1 columns</p>\n",
       "</div>"
      ],
      "text/plain": [
       "      Label\n",
       "0         7\n",
       "1         2\n",
       "2         0\n",
       "3         7\n",
       "4         6\n",
       "5         1\n",
       "6         5\n",
       "7         3\n",
       "8         8\n",
       "9         1\n",
       "10        5\n",
       "11        2\n",
       "12        9\n",
       "13        1\n",
       "14        0\n",
       "15        2\n",
       "16        3\n",
       "17        0\n",
       "18        0\n",
       "19        3\n",
       "20        3\n",
       "21        0\n",
       "22        6\n",
       "23        1\n",
       "24        4\n",
       "25        0\n",
       "26        2\n",
       "27        8\n",
       "28        3\n",
       "29        0\n",
       "...     ...\n",
       "9970      5\n",
       "9971      4\n",
       "9972      9\n",
       "9973      4\n",
       "9974      0\n",
       "9975      4\n",
       "9976      8\n",
       "9977      1\n",
       "9978      3\n",
       "9979      9\n",
       "9980      7\n",
       "9981      0\n",
       "9982      6\n",
       "9983      7\n",
       "9984      8\n",
       "9985      7\n",
       "9986      3\n",
       "9987      3\n",
       "9988      6\n",
       "9989      7\n",
       "9990      2\n",
       "9991      2\n",
       "9992      3\n",
       "9993      9\n",
       "9994      2\n",
       "9995      7\n",
       "9996      9\n",
       "9997      1\n",
       "9998      3\n",
       "9999      8\n",
       "\n",
       "[10000 rows x 1 columns]"
      ]
     },
     "execution_count": 119,
     "metadata": {},
     "output_type": "execute_result"
    }
   ],
   "source": [
    "df"
   ]
  },
  {
   "cell_type": "code",
   "execution_count": 120,
   "metadata": {
    "collapsed": true
   },
   "outputs": [],
   "source": [
    "df.to_csv('submission'+str(RUN_NUM)+'.csv', index_label='Id')"
   ]
  },
  {
   "cell_type": "code",
   "execution_count": 124,
   "metadata": {
    "collapsed": false
   },
   "outputs": [
    {
     "name": "stdout",
     "output_type": "stream",
     "text": [
      "Id,Label\r\n",
      "0,7\r\n",
      "1,2\r\n",
      "2,0\r\n",
      "3,7\r\n",
      "4,6\r\n",
      "5,1\r\n",
      "6,5\r\n",
      "7,3\r\n",
      "8,8\r\n"
     ]
    }
   ],
   "source": [
    "!head submission2.csv"
   ]
  }
 ],
 "metadata": {
  "kernelspec": {
   "display_name": "Python 2",
   "language": "python",
   "name": "python2"
  },
  "language_info": {
   "codemirror_mode": {
    "name": "ipython",
    "version": 2
   },
   "file_extension": ".py",
   "mimetype": "text/x-python",
   "name": "python",
   "nbconvert_exporter": "python",
   "pygments_lexer": "ipython2",
   "version": "2.7.13"
  }
 },
 "nbformat": 4,
 "nbformat_minor": 2
}
