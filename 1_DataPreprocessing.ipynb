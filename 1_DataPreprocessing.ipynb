{
 "cells": [
  {
   "cell_type": "markdown",
   "metadata": {},
   "source": [
    "# Project \\#4: Find the “Largest” Digit"
   ]
  },
  {
   "cell_type": "markdown",
   "metadata": {},
   "source": [
    "## Part 1 : Data preprocessing"
   ]
  },
  {
   "cell_type": "markdown",
   "metadata": {},
   "source": [
    "#### Imports"
   ]
  },
  {
   "cell_type": "code",
   "execution_count": 1,
   "metadata": {
    "collapsed": true
   },
   "outputs": [],
   "source": [
    "%matplotlib inline"
   ]
  },
  {
   "cell_type": "code",
   "execution_count": 2,
   "metadata": {
    "collapsed": true
   },
   "outputs": [],
   "source": [
    "import pandas, numpy as np\n",
    "import matplotlib.pyplot as plt\n",
    "import scipy.misc # to visualize only"
   ]
  },
  {
   "cell_type": "code",
   "execution_count": 3,
   "metadata": {},
   "outputs": [
    {
     "name": "stdout",
     "output_type": "stream",
     "text": [
      "test_x.csv  train_x.csv  train_y.csv\r\n"
     ]
    }
   ],
   "source": [
    "!ls ./Datasets"
   ]
  },
  {
   "cell_type": "code",
   "execution_count": 4,
   "metadata": {
    "collapsed": true
   },
   "outputs": [],
   "source": [
    "!head -n 20 Datasets/train_x.csv > Datasets/sample_x.csv\n",
    "!head -n 20 Datasets/train_y.csv > Datasets/sample_y.csv"
   ]
  },
  {
   "cell_type": "markdown",
   "metadata": {},
   "source": [
    "#### Read Data to Numpy"
   ]
  },
  {
   "cell_type": "code",
   "execution_count": 5,
   "metadata": {},
   "outputs": [],
   "source": [
    "x = np.loadtxt(\"Datasets/sample_x.csv\", delimiter=\",\") # load from text \n",
    "y = np.loadtxt(\"Datasets/sample_y.csv\", delimiter=\",\") \n",
    "x = x.reshape(-1, 64, 64) # reshape \n",
    "y = y.reshape(-1, 1) \n",
    "#scipy.misc.imshow(x[0]) # to visualize only"
   ]
  },
  {
   "cell_type": "code",
   "execution_count": 6,
   "metadata": {},
   "outputs": [
    {
     "data": {
      "text/plain": [
       "<matplotlib.image.AxesImage at 0x7f24038e21d0>"
      ]
     },
     "execution_count": 6,
     "metadata": {},
     "output_type": "execute_result"
    },
    {
     "data": {
      "image/png": "[encoded data removed]",
      "text/plain": [
       "<matplotlib.figure.Figure at 0x7f240ac46f10>"
      ]
     },
     "metadata": {},
     "output_type": "display_data"
    }
   ],
   "source": [
    "plt.imshow(x[0], cmap='hot', interpolation='nearest')"
   ]
  },
  {
   "cell_type": "markdown",
   "metadata": {},
   "source": [
    "#### Filter only for black pixels"
   ]
  },
  {
   "cell_type": "code",
   "execution_count": 7,
   "metadata": {
    "collapsed": true,
    "scrolled": false
   },
   "outputs": [],
   "source": [
    "BLACK_THRES = 255.0\n",
    "binX = np.floor_divide(x[0], BLACK_THRES)\n",
    "binCoords = np.nonzero(binX)"
   ]
  },
  {
   "cell_type": "code",
   "execution_count": 8,
   "metadata": {
    "collapsed": true
   },
   "outputs": [],
   "source": [
    "binCoords = zip(*binCoords)"
   ]
  },
  {
   "cell_type": "code",
   "execution_count": 14,
   "metadata": {
    "collapsed": true
   },
   "outputs": [],
   "source": [
    "PIX_DISTANCE = 4\n",
    "def groupPoints(binCoords):\n",
    "    groups = []\n",
    "    for pt in binCoords:\n",
    "        distances = np.array([\n",
    "            np.absolute(np.subtract(grp, pt)).sum(axis=1).min()\n",
    "            for grp in groups\n",
    "        ])\n",
    "        withInPixDist = np.where(distances < PIX_DISTANCE)[0]\n",
    "        if(len(withInPixDist)==0):\n",
    "            # no groups are within pixel distance\n",
    "            groups.append([pt])\n",
    "        else:\n",
    "            groups[np.argmin(distances)].append(pt)\n",
    "            # handle grouping groups\n",
    "            if len(withInPixDist) > 1:\n",
    "                # current point joins 2 groups\n",
    "                groups[withInPixDist[0]] = groups[withInPixDist[0]] + groups[withInPixDist[1]]\n",
    "    return groups"
   ]
  },
  {
   "cell_type": "code",
   "execution_count": 20,
   "metadata": {},
   "outputs": [
    {
     "data": {
      "text/plain": [
       "[(5, 25),\n",
       " (5, 26),\n",
       " (5, 27),\n",
       " (5, 28),\n",
       " (5, 29),\n",
       " (6, 24),\n",
       " (6, 25),\n",
       " (6, 26),\n",
       " (6, 27),\n",
       " (6, 28),\n",
       " (6, 29),\n",
       " (7, 24),\n",
       " (7, 25),\n",
       " (7, 26),\n",
       " (7, 27),\n",
       " (7, 28),\n",
       " (7, 29),\n",
       " (8, 21),\n",
       " (8, 22),\n",
       " (8, 23),\n",
       " (8, 21),\n",
       " (8, 22),\n",
       " (8, 24),\n",
       " (8, 21),\n",
       " (8, 22),\n",
       " (8, 25),\n",
       " (8, 21),\n",
       " (8, 22),\n",
       " (8, 26),\n",
       " (8, 27),\n",
       " (8, 28),\n",
       " (8, 29),\n",
       " (9, 19),\n",
       " (8, 21),\n",
       " (8, 22),\n",
       " (9, 20),\n",
       " (8, 21),\n",
       " (8, 22),\n",
       " (9, 21),\n",
       " (8, 21),\n",
       " (8, 22),\n",
       " (9, 22),\n",
       " (8, 21),\n",
       " (8, 22),\n",
       " (9, 23),\n",
       " (8, 21),\n",
       " (8, 22),\n",
       " (9, 24),\n",
       " (8, 21),\n",
       " (8, 22),\n",
       " (9, 25),\n",
       " (9, 26),\n",
       " (9, 27),\n",
       " (9, 28),\n",
       " (9, 29),\n",
       " (10, 19),\n",
       " (10, 20),\n",
       " (8, 21),\n",
       " (8, 22),\n",
       " (10, 21),\n",
       " (8, 21),\n",
       " (8, 22),\n",
       " (10, 22),\n",
       " (8, 21),\n",
       " (8, 22),\n",
       " (10, 23),\n",
       " (8, 21),\n",
       " (8, 22),\n",
       " (10, 24),\n",
       " (10, 25),\n",
       " (10, 26),\n",
       " (10, 27),\n",
       " (10, 28),\n",
       " (11, 18),\n",
       " (11, 19),\n",
       " (11, 20),\n",
       " (11, 21),\n",
       " (8, 21),\n",
       " (8, 22),\n",
       " (11, 22),\n",
       " (8, 21),\n",
       " (8, 22),\n",
       " (11, 23),\n",
       " (11, 24),\n",
       " (11, 25),\n",
       " (11, 26),\n",
       " (11, 27),\n",
       " (11, 28),\n",
       " (12, 18),\n",
       " (12, 19),\n",
       " (12, 20),\n",
       " (12, 21),\n",
       " (12, 22),\n",
       " (12, 23),\n",
       " (12, 24),\n",
       " (12, 25),\n",
       " (12, 26),\n",
       " (13, 16),\n",
       " (13, 17),\n",
       " (13, 18),\n",
       " (13, 19),\n",
       " (13, 20),\n",
       " (13, 21),\n",
       " (13, 22),\n",
       " (13, 23),\n",
       " (13, 24),\n",
       " (14, 15),\n",
       " (14, 16),\n",
       " (14, 17),\n",
       " (14, 18),\n",
       " (14, 19),\n",
       " (14, 20),\n",
       " (14, 21),\n",
       " (14, 22),\n",
       " (14, 23),\n",
       " (14, 24),\n",
       " (15, 15),\n",
       " (15, 16),\n",
       " (15, 17),\n",
       " (15, 18),\n",
       " (15, 19),\n",
       " (15, 20),\n",
       " (15, 21),\n",
       " (15, 22),\n",
       " (16, 14),\n",
       " (16, 15),\n",
       " (16, 16),\n",
       " (16, 17),\n",
       " (16, 18),\n",
       " (16, 19)]"
      ]
     },
     "execution_count": 20,
     "metadata": {},
     "output_type": "execute_result"
    }
   ],
   "source": [
    "grps[0]"
   ]
  },
  {
   "cell_type": "code",
   "execution_count": 22,
   "metadata": {},
   "outputs": [
    {
     "name": "stdout",
     "output_type": "stream",
     "text": [
      "[ 5 14]\n",
      "[16 29]\n"
     ]
    }
   ],
   "source": [
    "print np.min(grps[0], axis=0)\n",
    "print np.max(grps[0], axis=0)"
   ]
  },
  {
   "cell_type": "code",
   "execution_count": 56,
   "metadata": {
    "collapsed": true
   },
   "outputs": [],
   "source": [
    "# returns coordinates of min, max points of given group.\n",
    "def getBounds(group):\n",
    "    mins = np.min(group, axis=0)\n",
    "    maxs = np.max(group, axis=0)\n",
    "    return {\n",
    "        'x' : (mins[1], maxs[1], maxs[1] - mins[1]),\n",
    "        'y' : (mins[0], maxs[0], maxs[0] - mins[0])\n",
    "    }"
   ]
  },
  {
   "cell_type": "code",
   "execution_count": 45,
   "metadata": {},
   "outputs": [
    {
     "data": {
      "text/plain": [
       "array([22, 29])"
      ]
     },
     "execution_count": 45,
     "metadata": {},
     "output_type": "execute_result"
    }
   ],
   "source": [
    "np.max(grps[0], axis=0)"
   ]
  },
  {
   "cell_type": "code",
   "execution_count": 52,
   "metadata": {
    "scrolled": true
   },
   "outputs": [],
   "source": [
    "grps = groupPoints(binCoords)"
   ]
  },
  {
   "cell_type": "code",
   "execution_count": 47,
   "metadata": {},
   "outputs": [
    {
     "data": {
      "text/plain": [
       "3"
      ]
     },
     "execution_count": 47,
     "metadata": {},
     "output_type": "execute_result"
    }
   ],
   "source": [
    "len(grps)"
   ]
  },
  {
   "cell_type": "code",
   "execution_count": 57,
   "metadata": {},
   "outputs": [
    {
     "data": {
      "text/plain": [
       "{'x': (14, 29, 15), 'y': (5, 22, 17)}"
      ]
     },
     "execution_count": 57,
     "metadata": {},
     "output_type": "execute_result"
    }
   ],
   "source": [
    "getBounds(grps[0])"
   ]
  },
  {
   "cell_type": "code",
   "execution_count": 58,
   "metadata": {},
   "outputs": [
    {
     "data": {
      "text/plain": [
       "2"
      ]
     },
     "execution_count": 58,
     "metadata": {},
     "output_type": "execute_result"
    }
   ],
   "source": [
    "bounds = [getBounds(group) for group in grps]\n",
    "np.argmax([max(bound['x'][2], bound['y'][2]) for bound in bounds])"
   ]
  },
  {
   "cell_type": "code",
   "execution_count": 59,
   "metadata": {},
   "outputs": [
    {
     "data": {
      "text/plain": [
       "[{'x': (14, 29, 15), 'y': (5, 22, 17)},\n",
       " {'x': (21, 22, 1), 'y': (8, 8, 0)},\n",
       " {'x': (18, 33, 15), 'y': (37, 62, 25)}]"
      ]
     },
     "execution_count": 59,
     "metadata": {},
     "output_type": "execute_result"
    }
   ],
   "source": [
    "bounds"
   ]
  },
  {
   "cell_type": "code",
   "execution_count": 116,
   "metadata": {
    "collapsed": true
   },
   "outputs": [],
   "source": [
    "BLACK_THRES = 255.0\n",
    "\n",
    "def preprocessImage(img):\n",
    "    \n",
    "    # Filter just dark colors\n",
    "    binX = np.floor_divide(img, BLACK_THRES)\n",
    "    \n",
    "    # group and get bounds of hand written digits\n",
    "    binCoords = zip(*np.nonzero(binX))\n",
    "    groups = groupPoints(binCoords)\n",
    "    bounds = [getBounds(group) for group in groups]\n",
    "    \n",
    "    # return largest image\n",
    "    indLargetImg = np.argmax([max(bound['x'][2], bound['y'][2]) for bound in bounds])\n",
    "    sliceBounds = bounds[indLargetImg]\n",
    "    imgSlice = img[sliceBounds['y'][0]:sliceBounds['y'][1], sliceBounds['x'][0]:sliceBounds['x'][1]]\n",
    "    return np.floor_divide(imgSlice, BLACK_THRES)"
   ]
  },
  {
   "cell_type": "code",
   "execution_count": 117,
   "metadata": {},
   "outputs": [],
   "source": [
    "tmp = preprocessImage(x[0])"
   ]
  },
  {
   "cell_type": "code",
   "execution_count": 118,
   "metadata": {},
   "outputs": [
    {
     "data": {
      "text/plain": [
       "<matplotlib.image.AxesImage at 0x7f24008e9750>"
      ]
     },
     "execution_count": 118,
     "metadata": {},
     "output_type": "execute_result"
    },
    {
     "data": {
      "image/png": "[encoded data removed]",
      "text/plain": [
       "<matplotlib.figure.Figure at 0x7f23fbd97ed0>"
      ]
     },
     "metadata": {},
     "output_type": "display_data"
    }
   ],
   "source": [
    "plt.imshow(tmp, cmap='hot', interpolation='nearest')"
   ]
  },
  {
   "cell_type": "code",
   "execution_count": 119,
   "metadata": {},
   "outputs": [
    {
     "data": {
      "text/plain": [
       "<matplotlib.image.AxesImage at 0x7f23fb6c8710>"
      ]
     },
     "execution_count": 119,
     "metadata": {},
     "output_type": "execute_result"
    },
    {
     "data": {
      "image/png": "[encoded data removed]",
      "text/plain": [
       "<matplotlib.figure.Figure at 0x7f2400420f10>"
      ]
     },
     "metadata": {},
     "output_type": "display_data"
    },
    {
     "data": {
      "image/png": "[encoded data removed]",
      "text/plain": [
       "<matplotlib.figure.Figure at 0x7f24004778d0>"
      ]
     },
     "metadata": {},
     "output_type": "display_data"
    }
   ],
   "source": [
    "f, axarr = plt.subplots(2, 4)\n",
    "f.subplots_adjust(hspace=0.5)\n",
    "axarr[0][0].imshow(x[0], cmap='hot', interpolation='nearest')\n",
    "axarr[0][1].imshow(x[1], cmap='hot', interpolation='nearest')\n",
    "axarr[0][2].imshow(x[2], cmap='hot', interpolation='nearest')\n",
    "axarr[0][3].imshow(x[3], cmap='hot', interpolation='nearest')\n",
    "axarr[1][0].imshow(x[4], cmap='hot', interpolation='nearest')\n",
    "axarr[1][1].imshow(x[5], cmap='hot', interpolation='nearest')\n",
    "axarr[1][2].imshow(x[6], cmap='hot', interpolation='nearest')\n",
    "axarr[1][3].imshow(x[7], cmap='hot', interpolation='nearest')\n",
    "\n",
    "f, axarr = plt.subplots(2, 4)\n",
    "f.subplots_adjust(hspace=0.5)\n",
    "axarr[0][0].imshow(preprocessImage(x[0]), cmap='hot', interpolation='nearest')\n",
    "axarr[0][1].imshow(preprocessImage(x[1]), cmap='hot', interpolation='nearest')\n",
    "axarr[0][2].imshow(preprocessImage(x[2]), cmap='hot', interpolation='nearest')\n",
    "axarr[0][3].imshow(preprocessImage(x[3]), cmap='hot', interpolation='nearest')\n",
    "axarr[1][0].imshow(preprocessImage(x[4]), cmap='hot', interpolation='nearest')\n",
    "axarr[1][1].imshow(preprocessImage(x[5]), cmap='hot', interpolation='nearest')\n",
    "axarr[1][2].imshow(preprocessImage(x[6]), cmap='hot', interpolation='nearest')\n",
    "axarr[1][3].imshow(preprocessImage(x[7]), cmap='hot', interpolation='nearest')"
   ]
  },
  {
   "cell_type": "markdown",
   "metadata": {},
   "source": [
    "#### Reshape identified numbers into standard shape"
   ]
  },
  {
   "cell_type": "code",
   "execution_count": 121,
   "metadata": {},
   "outputs": [],
   "source": [
    "imgSlice = preprocessImage(x[0])"
   ]
  },
  {
   "cell_type": "code",
   "execution_count": 137,
   "metadata": {},
   "outputs": [
    {
     "name": "stdout",
     "output_type": "stream",
     "text": [
      "(3, 8) (28, 23)\n"
     ]
    }
   ],
   "source": [
    "sliceSize = (len(imgSlice), len(imgSlice[0]))\n",
    "targetSize = (30,30)\n",
    "bottomBnd = (targetSize[0]//2-sliceSize[0]//2, targetSize[1]/2-sliceSize[1]//2)\n",
    "topBnd = (targetSize[0]//2+sliceSize[0]//2+1, targetSize[1]/2+sliceSize[1]//2+1)\n",
    "print bottomBnd, topBnd\n",
    "img = np.zeros(targetSize)\n",
    "img[bottomBnd[0]:topBnd[0], bottomBnd[1]:topBnd[1]] = imgSlice"
   ]
  },
  {
   "cell_type": "code",
   "execution_count": 138,
   "metadata": {},
   "outputs": [
    {
     "data": {
      "text/plain": [
       "<matplotlib.image.AxesImage at 0x7f23fb4f0a10>"
      ]
     },
     "execution_count": 138,
     "metadata": {},
     "output_type": "execute_result"
    },
    {
     "data": {
      "image/png": "[encoded data removed]",
      "text/plain": [
       "<matplotlib.figure.Figure at 0x7f24025f7b50>"
      ]
     },
     "metadata": {},
     "output_type": "display_data"
    }
   ],
   "source": [
    "plt.imshow(img, cmap='hot', interpolation='nearest')"
   ]
  },
  {
   "cell_type": "code",
   "execution_count": null,
   "metadata": {
    "collapsed": true
   },
   "outputs": [],
   "source": [
    "def "
   ]
  },
  {
   "cell_type": "markdown",
   "metadata": {},
   "source": [
    "#### Implement the Neural Network"
   ]
  },
  {
   "cell_type": "markdown",
   "metadata": {},
   "source": [
    "#### Define Preprocessing to Train NN pipeline"
   ]
  },
  {
   "cell_type": "code",
   "execution_count": null,
   "metadata": {
    "collapsed": true
   },
   "outputs": [],
   "source": []
  }
 ],
 "metadata": {
  "kernelspec": {
   "display_name": "Python 2",
   "language": "python",
   "name": "python2"
  },
  "language_info": {
   "codemirror_mode": {
    "name": "ipython",
    "version": 2
   },
   "file_extension": ".py",
   "mimetype": "text/x-python",
   "name": "python",
   "nbconvert_exporter": "python",
   "pygments_lexer": "ipython2",
   "version": "2.7.14"
  }
 },
 "nbformat": 4,
 "nbformat_minor": 2
}
