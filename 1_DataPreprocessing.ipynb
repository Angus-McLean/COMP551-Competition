{
 "cells": [
  {
   "cell_type": "markdown",
   "metadata": {},
   "source": [
    "# Project \\#4: Find the “Largest” Digit"
   ]
  },
  {
   "cell_type": "markdown",
   "metadata": {},
   "source": [
    "## Part 1 : Data preprocessing"
   ]
  },
  {
   "cell_type": "markdown",
   "metadata": {},
   "source": [
    "#### Imports"
   ]
  },
  {
   "cell_type": "code",
   "execution_count": 1,
   "metadata": {},
   "outputs": [],
   "source": [
    "%matplotlib inline"
   ]
  },
  {
   "cell_type": "code",
   "execution_count": 3,
   "metadata": {},
   "outputs": [],
   "source": [
    "import pandas, numpy as np\n",
    "import matplotlib.pyplot as plt\n",
    "import scipy.misc # to visualize only"
   ]
  },
  {
   "cell_type": "code",
   "execution_count": 26,
   "metadata": {},
   "outputs": [
    {
     "name": "stdout",
     "output_type": "stream",
     "text": [
      "sample_x.csv  sample_y.csv  train_x.csv  train_y.csv\r\n"
     ]
    }
   ],
   "source": [
    "!ls ./Datasets"
   ]
  },
  {
   "cell_type": "code",
   "execution_count": 27,
   "metadata": {},
   "outputs": [],
   "source": [
    "!head -n 20 Datasets/train_x.csv > Datasets/sample_x.csv\n",
    "!head -n 20 Datasets/train_y.csv > Datasets/sample_y.csv"
   ]
  },
  {
   "cell_type": "markdown",
   "metadata": {},
   "source": [
    "#### Read Data to Numpy"
   ]
  },
  {
   "cell_type": "code",
   "execution_count": 28,
   "metadata": {},
   "outputs": [
    {
     "name": "stderr",
     "output_type": "stream",
     "text": [
      "/home/angus/anaconda2/lib/python2.7/site-packages/ipykernel/__main__.py:5: DeprecationWarning: `imshow` is deprecated!\n",
      "`imshow` is deprecated in SciPy 1.0.0, and will be removed in 1.2.0.\n",
      "Use ``matplotlib.pyplot.imshow`` instead.\n"
     ]
    }
   ],
   "source": [
    "x = np.loadtxt(\"Datasets/sample_x.csv\", delimiter=\",\") # load from text \n",
    "y = np.loadtxt(\"Datasets/sample_y.csv\", delimiter=\",\") \n",
    "x = x.reshape(-1, 64, 64) # reshape \n",
    "y = y.reshape(-1, 1) \n",
    "scipy.misc.imshow(x[0]) # to visualize only "
   ]
  },
  {
   "cell_type": "code",
   "execution_count": 32,
   "metadata": {},
   "outputs": [
    {
     "data": {
      "text/plain": [
       "<matplotlib.image.AxesImage at 0x7f9883cac710>"
      ]
     },
     "execution_count": 32,
     "metadata": {},
     "output_type": "execute_result"
    },
    {
     "data": {
      "image/png": "[encoded data removed]",
      "text/plain": [
       "<matplotlib.figure.Figure at 0x7f9883d86bd0>"
      ]
     },
     "metadata": {},
     "output_type": "display_data"
    }
   ],
   "source": [
    "plt.imshow(x[0], cmap='hot', interpolation='nearest')"
   ]
  },
  {
   "cell_type": "markdown",
   "metadata": {},
   "source": [
    "#### Filter only for black pixels"
   ]
  },
  {
   "cell_type": "code",
   "execution_count": 39,
   "metadata": {
    "scrolled": false
   },
   "outputs": [],
   "source": [
    "BLACK_THRES = 255.0\n",
    "binX = np.floor_divide(x[0], BLACK_THRES)\n",
    "binCoords = np.nonzero(binX)"
   ]
  },
  {
   "cell_type": "code",
   "execution_count": 48,
   "metadata": {},
   "outputs": [],
   "source": [
    "binCoords = zip(*binCoords)"
   ]
  },
  {
   "cell_type": "code",
   "execution_count": 236,
   "metadata": {},
   "outputs": [],
   "source": [
    "PIX_DISTANCE = 3\n",
    "def groupPoints(binCoords):\n",
    "    groups = []\n",
    "    for pt in binCoords:\n",
    "        distances = np.array([\n",
    "            np.absolute(np.subtract(grp, pt)).sum(axis=1).min()\n",
    "            for grp in groups\n",
    "        ])\n",
    "        withInPixDist = np.where(distances < PIX_DISTANCE)[0]\n",
    "        if(len(withInPixDist)==0):\n",
    "            # no groups are within pixel distance\n",
    "            groups.append([pt])\n",
    "        else:\n",
    "            groups[np.argmin(distances)].append(pt)\n",
    "            # handle grouping groups\n",
    "            if len(withInPixDist) > 1:\n",
    "                # current point joins 2 groups\n",
    "                #print 'Grouping with ', withInPixDist\n",
    "                print groups[withInPixDist[0]], '+', groups[withInPixDist[1]]\n",
    "                groups[withInPixDist[0]] = groups[withInPixDist[0]] + groups[withInPixDist[1]]\n",
    "        print 'pt', pt, 'distances', distances, 'withInPixDist',withInPixDist\n",
    "        #print groups\n",
    "    return groups"
   ]
  },
  {
   "cell_type": "code",
   "execution_count": 237,
   "metadata": {
    "scrolled": true
   },
   "outputs": [
    {
     "name": "stdout",
     "output_type": "stream",
     "text": [
      "pt (5, 25) distances [] withInPixDist []\n",
      "pt (5, 26) distances [1] withInPixDist [0]\n",
      "pt (5, 27) distances [1] withInPixDist [0]\n",
      "pt (5, 28) distances [1] withInPixDist [0]\n",
      "pt (5, 29) distances [1] withInPixDist [0]\n",
      "pt (6, 24) distances [2] withInPixDist [0]\n",
      "pt (6, 25) distances [1] withInPixDist [0]\n",
      "pt (6, 26) distances [1] withInPixDist [0]\n",
      "pt (6, 27) distances [1] withInPixDist [0]\n",
      "pt (6, 28) distances [1] withInPixDist [0]\n",
      "pt (6, 29) distances [1] withInPixDist [0]\n",
      "pt (7, 24) distances [1] withInPixDist [0]\n",
      "pt (7, 25) distances [1] withInPixDist [0]\n",
      "pt (7, 26) distances [1] withInPixDist [0]\n",
      "pt (7, 27) distances [1] withInPixDist [0]\n",
      "pt (7, 28) distances [1] withInPixDist [0]\n",
      "pt (7, 29) distances [1] withInPixDist [0]\n",
      "pt (8, 21) distances [4] withInPixDist []\n",
      "pt (8, 22) distances [3 1] withInPixDist [1]\n",
      "[(5, 25), (5, 26), (5, 27), (5, 28), (5, 29), (6, 24), (6, 25), (6, 26), (6, 27), (6, 28), (6, 29), (7, 24), (7, 25), (7, 26), (7, 27), (7, 28), (7, 29)] + [(8, 21), (8, 22), (8, 23)]\n",
      "pt (8, 23) distances [2 1] withInPixDist [0 1]\n",
      "[(5, 25), (5, 26), (5, 27), (5, 28), (5, 29), (6, 24), (6, 25), (6, 26), (6, 27), (6, 28), (6, 29), (7, 24), (7, 25), (7, 26), (7, 27), (7, 28), (7, 29), (8, 21), (8, 22), (8, 23), (8, 24)] + [(8, 21), (8, 22), (8, 23)]\n",
      "pt (8, 24) distances [1 1] withInPixDist [0 1]\n",
      "[(5, 25), (5, 26), (5, 27), (5, 28), (5, 29), (6, 24), (6, 25), (6, 26), (6, 27), (6, 28), (6, 29), (7, 24), (7, 25), (7, 26), (7, 27), (7, 28), (7, 29), (8, 21), (8, 22), (8, 23), (8, 24), (8, 21), (8, 22), (8, 23), (8, 25)] + [(8, 21), (8, 22), (8, 23)]\n",
      "pt (8, 25) distances [1 2] withInPixDist [0 1]\n",
      "pt (8, 26) distances [1 3] withInPixDist [0]\n",
      "pt (8, 27) distances [1 4] withInPixDist [0]\n",
      "pt (8, 28) distances [1 5] withInPixDist [0]\n",
      "pt (8, 29) distances [1 6] withInPixDist [0]\n",
      "pt (9, 19) distances [3 3] withInPixDist []\n",
      "[(5, 25), (5, 26), (5, 27), (5, 28), (5, 29), (6, 24), (6, 25), (6, 26), (6, 27), (6, 28), (6, 29), (7, 24), (7, 25), (7, 26), (7, 27), (7, 28), (7, 29), (8, 21), (8, 22), (8, 23), (8, 24), (8, 21), (8, 22), (8, 23), (8, 25), (8, 21), (8, 22), (8, 23), (8, 26), (8, 27), (8, 28), (8, 29)] + [(8, 21), (8, 22), (8, 23)]\n",
      "pt (9, 20) distances [2 2 1] withInPixDist [0 1 2]\n",
      "[(5, 25), (5, 26), (5, 27), (5, 28), (5, 29), (6, 24), (6, 25), (6, 26), (6, 27), (6, 28), (6, 29), (7, 24), (7, 25), (7, 26), (7, 27), (7, 28), (7, 29), (8, 21), (8, 22), (8, 23), (8, 24), (8, 21), (8, 22), (8, 23), (8, 25), (8, 21), (8, 22), (8, 23), (8, 26), (8, 27), (8, 28), (8, 29), (8, 21), (8, 22), (8, 23), (9, 21)] + [(8, 21), (8, 22), (8, 23)]\n",
      "pt (9, 21) distances [1 1 1] withInPixDist [0 1 2]\n",
      "[(5, 25), (5, 26), (5, 27), (5, 28), (5, 29), (6, 24), (6, 25), (6, 26), (6, 27), (6, 28), (6, 29), (7, 24), (7, 25), (7, 26), (7, 27), (7, 28), (7, 29), (8, 21), (8, 22), (8, 23), (8, 24), (8, 21), (8, 22), (8, 23), (8, 25), (8, 21), (8, 22), (8, 23), (8, 26), (8, 27), (8, 28), (8, 29), (8, 21), (8, 22), (8, 23), (9, 21), (8, 21), (8, 22), (8, 23), (9, 22)] + [(8, 21), (8, 22), (8, 23)]\n",
      "pt (9, 22) distances [1 1 2] withInPixDist [0 1 2]\n",
      "[(5, 25), (5, 26), (5, 27), (5, 28), (5, 29), (6, 24), (6, 25), (6, 26), (6, 27), (6, 28), (6, 29), (7, 24), (7, 25), (7, 26), (7, 27), (7, 28), (7, 29), (8, 21), (8, 22), (8, 23), (8, 24), (8, 21), (8, 22), (8, 23), (8, 25), (8, 21), (8, 22), (8, 23), (8, 26), (8, 27), (8, 28), (8, 29), (8, 21), (8, 22), (8, 23), (9, 21), (8, 21), (8, 22), (8, 23), (9, 22), (8, 21), (8, 22), (8, 23), (9, 23)] + [(8, 21), (8, 22), (8, 23)]\n",
      "pt (9, 23) distances [1 1 3] withInPixDist [0 1]\n",
      "[(5, 25), (5, 26), (5, 27), (5, 28), (5, 29), (6, 24), (6, 25), (6, 26), (6, 27), (6, 28), (6, 29), (7, 24), (7, 25), (7, 26), (7, 27), (7, 28), (7, 29), (8, 21), (8, 22), (8, 23), (8, 24), (8, 21), (8, 22), (8, 23), (8, 25), (8, 21), (8, 22), (8, 23), (8, 26), (8, 27), (8, 28), (8, 29), (8, 21), (8, 22), (8, 23), (9, 21), (8, 21), (8, 22), (8, 23), (9, 22), (8, 21), (8, 22), (8, 23), (9, 23), (8, 21), (8, 22), (8, 23), (9, 24)] + [(8, 21), (8, 22), (8, 23)]\n",
      "pt (9, 24) distances [1 2 4] withInPixDist [0 1]\n",
      "pt (9, 25) distances [1 3 5] withInPixDist [0]\n",
      "pt (9, 26) distances [1 4 6] withInPixDist [0]\n",
      "pt (9, 27) distances [1 5 7] withInPixDist [0]\n",
      "pt (9, 28) distances [1 6 8] withInPixDist [0]\n",
      "pt (9, 29) distances [1 7 9] withInPixDist [0]\n",
      "pt (10, 19) distances [3 4 1] withInPixDist [2]\n",
      "[(5, 25), (5, 26), (5, 27), (5, 28), (5, 29), (6, 24), (6, 25), (6, 26), (6, 27), (6, 28), (6, 29), (7, 24), (7, 25), (7, 26), (7, 27), (7, 28), (7, 29), (8, 21), (8, 22), (8, 23), (8, 24), (8, 21), (8, 22), (8, 23), (8, 25), (8, 21), (8, 22), (8, 23), (8, 26), (8, 27), (8, 28), (8, 29), (8, 21), (8, 22), (8, 23), (9, 21), (8, 21), (8, 22), (8, 23), (9, 22), (8, 21), (8, 22), (8, 23), (9, 23), (8, 21), (8, 22), (8, 23), (9, 24), (8, 21), (8, 22), (8, 23), (9, 25), (9, 26), (9, 27), (9, 28), (9, 29)] + [(9, 19), (9, 20), (10, 19), (10, 20)]\n",
      "pt (10, 20) distances [2 3 1] withInPixDist [0 2]\n",
      "[(5, 25), (5, 26), (5, 27), (5, 28), (5, 29), (6, 24), (6, 25), (6, 26), (6, 27), (6, 28), (6, 29), (7, 24), (7, 25), (7, 26), (7, 27), (7, 28), (7, 29), (8, 21), (8, 22), (8, 23), (8, 24), (8, 21), (8, 22), (8, 23), (8, 25), (8, 21), (8, 22), (8, 23), (8, 26), (8, 27), (8, 28), (8, 29), (8, 21), (8, 22), (8, 23), (9, 21), (8, 21), (8, 22), (8, 23), (9, 22), (8, 21), (8, 22), (8, 23), (9, 23), (8, 21), (8, 22), (8, 23), (9, 24), (8, 21), (8, 22), (8, 23), (9, 25), (9, 26), (9, 27), (9, 28), (9, 29), (9, 19), (9, 20), (10, 19), (10, 20), (10, 21)] + [(8, 21), (8, 22), (8, 23)]\n",
      "pt (10, 21) distances [1 2 1] withInPixDist [0 1 2]\n",
      "[(5, 25), (5, 26), (5, 27), (5, 28), (5, 29), (6, 24), (6, 25), (6, 26), (6, 27), (6, 28), (6, 29), (7, 24), (7, 25), (7, 26), (7, 27), (7, 28), (7, 29), (8, 21), (8, 22), (8, 23), (8, 24), (8, 21), (8, 22), (8, 23), (8, 25), (8, 21), (8, 22), (8, 23), (8, 26), (8, 27), (8, 28), (8, 29), (8, 21), (8, 22), (8, 23), (9, 21), (8, 21), (8, 22), (8, 23), (9, 22), (8, 21), (8, 22), (8, 23), (9, 23), (8, 21), (8, 22), (8, 23), (9, 24), (8, 21), (8, 22), (8, 23), (9, 25), (9, 26), (9, 27), (9, 28), (9, 29), (9, 19), (9, 20), (10, 19), (10, 20), (10, 21), (8, 21), (8, 22), (8, 23), (10, 22)] + [(8, 21), (8, 22), (8, 23)]\n",
      "pt (10, 22) distances [1 2 2] withInPixDist [0 1 2]\n",
      "[(5, 25), (5, 26), (5, 27), (5, 28), (5, 29), (6, 24), (6, 25), (6, 26), (6, 27), (6, 28), (6, 29), (7, 24), (7, 25), (7, 26), (7, 27), (7, 28), (7, 29), (8, 21), (8, 22), (8, 23), (8, 24), (8, 21), (8, 22), (8, 23), (8, 25), (8, 21), (8, 22), (8, 23), (8, 26), (8, 27), (8, 28), (8, 29), (8, 21), (8, 22), (8, 23), (9, 21), (8, 21), (8, 22), (8, 23), (9, 22), (8, 21), (8, 22), (8, 23), (9, 23), (8, 21), (8, 22), (8, 23), (9, 24), (8, 21), (8, 22), (8, 23), (9, 25), (9, 26), (9, 27), (9, 28), (9, 29), (9, 19), (9, 20), (10, 19), (10, 20), (10, 21), (8, 21), (8, 22), (8, 23), (10, 22), (8, 21), (8, 22), (8, 23), (10, 23)] + [(8, 21), (8, 22), (8, 23)]\n",
      "pt (10, 23) distances [1 2 3] withInPixDist [0 1]\n",
      "pt (10, 24) distances [1 3 4] withInPixDist [0]\n",
      "pt (10, 25) distances [1 4 5] withInPixDist [0]\n",
      "pt (10, 26) distances [1 5 6] withInPixDist [0]\n",
      "pt (10, 27) distances [1 6 7] withInPixDist [0]\n",
      "pt (10, 28) distances [1 7 8] withInPixDist [0]\n",
      "[(5, 25), (5, 26), (5, 27), (5, 28), (5, 29), (6, 24), (6, 25), (6, 26), (6, 27), (6, 28), (6, 29), (7, 24), (7, 25), (7, 26), (7, 27), (7, 28), (7, 29), (8, 21), (8, 22), (8, 23), (8, 24), (8, 21), (8, 22), (8, 23), (8, 25), (8, 21), (8, 22), (8, 23), (8, 26), (8, 27), (8, 28), (8, 29), (8, 21), (8, 22), (8, 23), (9, 21), (8, 21), (8, 22), (8, 23), (9, 22), (8, 21), (8, 22), (8, 23), (9, 23), (8, 21), (8, 22), (8, 23), (9, 24), (8, 21), (8, 22), (8, 23), (9, 25), (9, 26), (9, 27), (9, 28), (9, 29), (9, 19), (9, 20), (10, 19), (10, 20), (10, 21), (8, 21), (8, 22), (8, 23), (10, 22), (8, 21), (8, 22), (8, 23), (10, 23), (8, 21), (8, 22), (8, 23), (10, 24), (10, 25), (10, 26), (10, 27), (10, 28), (11, 18)] + [(9, 19), (9, 20), (10, 19), (10, 20)]\n",
      "pt (11, 18) distances [2 6 2] withInPixDist [0 2]\n",
      "[(5, 25), (5, 26), (5, 27), (5, 28), (5, 29), (6, 24), (6, 25), (6, 26), (6, 27), (6, 28), (6, 29), (7, 24), (7, 25), (7, 26), (7, 27), (7, 28), (7, 29), (8, 21), (8, 22), (8, 23), (8, 24), (8, 21), (8, 22), (8, 23), (8, 25), (8, 21), (8, 22), (8, 23), (8, 26), (8, 27), (8, 28), (8, 29), (8, 21), (8, 22), (8, 23), (9, 21), (8, 21), (8, 22), (8, 23), (9, 22), (8, 21), (8, 22), (8, 23), (9, 23), (8, 21), (8, 22), (8, 23), (9, 24), (8, 21), (8, 22), (8, 23), (9, 25), (9, 26), (9, 27), (9, 28), (9, 29), (9, 19), (9, 20), (10, 19), (10, 20), (10, 21), (8, 21), (8, 22), (8, 23), (10, 22), (8, 21), (8, 22), (8, 23), (10, 23), (8, 21), (8, 22), (8, 23), (10, 24), (10, 25), (10, 26), (10, 27), (10, 28), (11, 18), (9, 19), (9, 20), (10, 19), (10, 20), (11, 19)] + [(9, 19), (9, 20), (10, 19), (10, 20)]\n",
      "pt (11, 19) distances [1 5 1] withInPixDist [0 2]\n",
      "[(5, 25), (5, 26), (5, 27), (5, 28), (5, 29), (6, 24), (6, 25), (6, 26), (6, 27), (6, 28), (6, 29), (7, 24), (7, 25), (7, 26), (7, 27), (7, 28), (7, 29), (8, 21), (8, 22), (8, 23), (8, 24), (8, 21), (8, 22), (8, 23), (8, 25), (8, 21), (8, 22), (8, 23), (8, 26), (8, 27), (8, 28), (8, 29), (8, 21), (8, 22), (8, 23), (9, 21), (8, 21), (8, 22), (8, 23), (9, 22), (8, 21), (8, 22), (8, 23), (9, 23), (8, 21), (8, 22), (8, 23), (9, 24), (8, 21), (8, 22), (8, 23), (9, 25), (9, 26), (9, 27), (9, 28), (9, 29), (9, 19), (9, 20), (10, 19), (10, 20), (10, 21), (8, 21), (8, 22), (8, 23), (10, 22), (8, 21), (8, 22), (8, 23), (10, 23), (8, 21), (8, 22), (8, 23), (10, 24), (10, 25), (10, 26), (10, 27), (10, 28), (11, 18), (9, 19), (9, 20), (10, 19), (10, 20), (11, 19), (9, 19), (9, 20), (10, 19), (10, 20), (11, 20)] + [(9, 19), (9, 20), (10, 19), (10, 20)]\n",
      "pt (11, 20) distances [1 4 1] withInPixDist [0 2]\n",
      "[(5, 25), (5, 26), (5, 27), (5, 28), (5, 29), (6, 24), (6, 25), (6, 26), (6, 27), (6, 28), (6, 29), (7, 24), (7, 25), (7, 26), (7, 27), (7, 28), (7, 29), (8, 21), (8, 22), (8, 23), (8, 24), (8, 21), (8, 22), (8, 23), (8, 25), (8, 21), (8, 22), (8, 23), (8, 26), (8, 27), (8, 28), (8, 29), (8, 21), (8, 22), (8, 23), (9, 21), (8, 21), (8, 22), (8, 23), (9, 22), (8, 21), (8, 22), (8, 23), (9, 23), (8, 21), (8, 22), (8, 23), (9, 24), (8, 21), (8, 22), (8, 23), (9, 25), (9, 26), (9, 27), (9, 28), (9, 29), (9, 19), (9, 20), (10, 19), (10, 20), (10, 21), (8, 21), (8, 22), (8, 23), (10, 22), (8, 21), (8, 22), (8, 23), (10, 23), (8, 21), (8, 22), (8, 23), (10, 24), (10, 25), (10, 26), (10, 27), (10, 28), (11, 18), (9, 19), (9, 20), (10, 19), (10, 20), (11, 19), (9, 19), (9, 20), (10, 19), (10, 20), (11, 20), (9, 19), (9, 20), (10, 19), (10, 20), (11, 21)] + [(9, 19), (9, 20), (10, 19), (10, 20)]\n",
      "pt (11, 21) distances [1 3 2] withInPixDist [0 2]\n",
      "pt (11, 22) distances [1 3 3] withInPixDist [0]\n",
      "pt (11, 23) distances [1 3 4] withInPixDist [0]\n",
      "pt (11, 24) distances [1 4 5] withInPixDist [0]\n",
      "pt (11, 25) distances [1 5 6] withInPixDist [0]\n",
      "pt (11, 26) distances [1 6 7] withInPixDist [0]\n",
      "pt (11, 27) distances [1 7 8] withInPixDist [0]\n",
      "pt (11, 28) distances [1 8 9] withInPixDist [0]\n",
      "pt (12, 18) distances [1 7 3] withInPixDist [0]\n",
      "[(5, 25), (5, 26), (5, 27), (5, 28), (5, 29), (6, 24), (6, 25), (6, 26), (6, 27), (6, 28), (6, 29), (7, 24), (7, 25), (7, 26), (7, 27), (7, 28), (7, 29), (8, 21), (8, 22), (8, 23), (8, 24), (8, 21), (8, 22), (8, 23), (8, 25), (8, 21), (8, 22), (8, 23), (8, 26), (8, 27), (8, 28), (8, 29), (8, 21), (8, 22), (8, 23), (9, 21), (8, 21), (8, 22), (8, 23), (9, 22), (8, 21), (8, 22), (8, 23), (9, 23), (8, 21), (8, 22), (8, 23), (9, 24), (8, 21), (8, 22), (8, 23), (9, 25), (9, 26), (9, 27), (9, 28), (9, 29), (9, 19), (9, 20), (10, 19), (10, 20), (10, 21), (8, 21), (8, 22), (8, 23), (10, 22), (8, 21), (8, 22), (8, 23), (10, 23), (8, 21), (8, 22), (8, 23), (10, 24), (10, 25), (10, 26), (10, 27), (10, 28), (11, 18), (9, 19), (9, 20), (10, 19), (10, 20), (11, 19), (9, 19), (9, 20), (10, 19), (10, 20), (11, 20), (9, 19), (9, 20), (10, 19), (10, 20), (11, 21), (9, 19), (9, 20), (10, 19), (10, 20), (11, 22), (11, 23), (11, 24), (11, 25), (11, 26), (11, 27), (11, 28), (12, 18), (12, 19)] + [(9, 19), (9, 20), (10, 19), (10, 20)]\n",
      "pt (12, 19) distances [1 6 2] withInPixDist [0 2]\n",
      "[(5, 25), (5, 26), (5, 27), (5, 28), (5, 29), (6, 24), (6, 25), (6, 26), (6, 27), (6, 28), (6, 29), (7, 24), (7, 25), (7, 26), (7, 27), (7, 28), (7, 29), (8, 21), (8, 22), (8, 23), (8, 24), (8, 21), (8, 22), (8, 23), (8, 25), (8, 21), (8, 22), (8, 23), (8, 26), (8, 27), (8, 28), (8, 29), (8, 21), (8, 22), (8, 23), (9, 21), (8, 21), (8, 22), (8, 23), (9, 22), (8, 21), (8, 22), (8, 23), (9, 23), (8, 21), (8, 22), (8, 23), (9, 24), (8, 21), (8, 22), (8, 23), (9, 25), (9, 26), (9, 27), (9, 28), (9, 29), (9, 19), (9, 20), (10, 19), (10, 20), (10, 21), (8, 21), (8, 22), (8, 23), (10, 22), (8, 21), (8, 22), (8, 23), (10, 23), (8, 21), (8, 22), (8, 23), (10, 24), (10, 25), (10, 26), (10, 27), (10, 28), (11, 18), (9, 19), (9, 20), (10, 19), (10, 20), (11, 19), (9, 19), (9, 20), (10, 19), (10, 20), (11, 20), (9, 19), (9, 20), (10, 19), (10, 20), (11, 21), (9, 19), (9, 20), (10, 19), (10, 20), (11, 22), (11, 23), (11, 24), (11, 25), (11, 26), (11, 27), (11, 28), (12, 18), (12, 19), (9, 19), (9, 20), (10, 19), (10, 20), (12, 20)] + [(9, 19), (9, 20), (10, 19), (10, 20)]\n",
      "pt (12, 20) distances [1 5 2] withInPixDist [0 2]\n",
      "pt (12, 21) distances [1 4 3] withInPixDist [0]\n",
      "pt (12, 22) distances [1 4 4] withInPixDist [0]\n",
      "pt (12, 23) distances [1 4 5] withInPixDist [0]\n",
      "pt (12, 24) distances [1 5 6] withInPixDist [0]\n",
      "pt (12, 25) distances [1 6 7] withInPixDist [0]\n",
      "pt (12, 26) distances [1 7 8] withInPixDist [0]\n",
      "pt (13, 16) distances [ 3 10  6] withInPixDist []\n",
      "[(5, 25), (5, 26), (5, 27), (5, 28), (5, 29), (6, 24), (6, 25), (6, 26), (6, 27), (6, 28), (6, 29), (7, 24), (7, 25), (7, 26), (7, 27), (7, 28), (7, 29), (8, 21), (8, 22), (8, 23), (8, 24), (8, 21), (8, 22), (8, 23), (8, 25), (8, 21), (8, 22), (8, 23), (8, 26), (8, 27), (8, 28), (8, 29), (8, 21), (8, 22), (8, 23), (9, 21), (8, 21), (8, 22), (8, 23), (9, 22), (8, 21), (8, 22), (8, 23), (9, 23), (8, 21), (8, 22), (8, 23), (9, 24), (8, 21), (8, 22), (8, 23), (9, 25), (9, 26), (9, 27), (9, 28), (9, 29), (9, 19), (9, 20), (10, 19), (10, 20), (10, 21), (8, 21), (8, 22), (8, 23), (10, 22), (8, 21), (8, 22), (8, 23), (10, 23), (8, 21), (8, 22), (8, 23), (10, 24), (10, 25), (10, 26), (10, 27), (10, 28), (11, 18), (9, 19), (9, 20), (10, 19), (10, 20), (11, 19), (9, 19), (9, 20), (10, 19), (10, 20), (11, 20), (9, 19), (9, 20), (10, 19), (10, 20), (11, 21), (9, 19), (9, 20), (10, 19), (10, 20), (11, 22), (11, 23), (11, 24), (11, 25), (11, 26), (11, 27), (11, 28), (12, 18), (12, 19), (9, 19), (9, 20), (10, 19), (10, 20), (12, 20), (9, 19), (9, 20), (10, 19), (10, 20), (12, 21), (12, 22), (12, 23), (12, 24), (12, 25), (12, 26)] + [(13, 16), (13, 17)]\n",
      "pt (13, 17) distances [2 9 5 1] withInPixDist [0 3]\n",
      "[(5, 25), (5, 26), (5, 27), (5, 28), (5, 29), (6, 24), (6, 25), (6, 26), (6, 27), (6, 28), (6, 29), (7, 24), (7, 25), (7, 26), (7, 27), (7, 28), (7, 29), (8, 21), (8, 22), (8, 23), (8, 24), (8, 21), (8, 22), (8, 23), (8, 25), (8, 21), (8, 22), (8, 23), (8, 26), (8, 27), (8, 28), (8, 29), (8, 21), (8, 22), (8, 23), (9, 21), (8, 21), (8, 22), (8, 23), (9, 22), (8, 21), (8, 22), (8, 23), (9, 23), (8, 21), (8, 22), (8, 23), (9, 24), (8, 21), (8, 22), (8, 23), (9, 25), (9, 26), (9, 27), (9, 28), (9, 29), (9, 19), (9, 20), (10, 19), (10, 20), (10, 21), (8, 21), (8, 22), (8, 23), (10, 22), (8, 21), (8, 22), (8, 23), (10, 23), (8, 21), (8, 22), (8, 23), (10, 24), (10, 25), (10, 26), (10, 27), (10, 28), (11, 18), (9, 19), (9, 20), (10, 19), (10, 20), (11, 19), (9, 19), (9, 20), (10, 19), (10, 20), (11, 20), (9, 19), (9, 20), (10, 19), (10, 20), (11, 21), (9, 19), (9, 20), (10, 19), (10, 20), (11, 22), (11, 23), (11, 24), (11, 25), (11, 26), (11, 27), (11, 28), (12, 18), (12, 19), (9, 19), (9, 20), (10, 19), (10, 20), (12, 20), (9, 19), (9, 20), (10, 19), (10, 20), (12, 21), (12, 22), (12, 23), (12, 24), (12, 25), (12, 26), (13, 16), (13, 17), (13, 18)] + [(13, 16), (13, 17)]\n",
      "pt (13, 18) distances [1 8 4 1] withInPixDist [0 3]\n",
      "[(5, 25), (5, 26), (5, 27), (5, 28), (5, 29), (6, 24), (6, 25), (6, 26), (6, 27), (6, 28), (6, 29), (7, 24), (7, 25), (7, 26), (7, 27), (7, 28), (7, 29), (8, 21), (8, 22), (8, 23), (8, 24), (8, 21), (8, 22), (8, 23), (8, 25), (8, 21), (8, 22), (8, 23), (8, 26), (8, 27), (8, 28), (8, 29), (8, 21), (8, 22), (8, 23), (9, 21), (8, 21), (8, 22), (8, 23), (9, 22), (8, 21), (8, 22), (8, 23), (9, 23), (8, 21), (8, 22), (8, 23), (9, 24), (8, 21), (8, 22), (8, 23), (9, 25), (9, 26), (9, 27), (9, 28), (9, 29), (9, 19), (9, 20), (10, 19), (10, 20), (10, 21), (8, 21), (8, 22), (8, 23), (10, 22), (8, 21), (8, 22), (8, 23), (10, 23), (8, 21), (8, 22), (8, 23), (10, 24), (10, 25), (10, 26), (10, 27), (10, 28), (11, 18), (9, 19), (9, 20), (10, 19), (10, 20), (11, 19), (9, 19), (9, 20), (10, 19), (10, 20), (11, 20), (9, 19), (9, 20), (10, 19), (10, 20), (11, 21), (9, 19), (9, 20), (10, 19), (10, 20), (11, 22), (11, 23), (11, 24), (11, 25), (11, 26), (11, 27), (11, 28), (12, 18), (12, 19), (9, 19), (9, 20), (10, 19), (10, 20), (12, 20), (9, 19), (9, 20), (10, 19), (10, 20), (12, 21), (12, 22), (12, 23), (12, 24), (12, 25), (12, 26), (13, 16), (13, 17), (13, 18), (13, 16), (13, 17), (13, 19)] + [(13, 16), (13, 17)]\n",
      "pt (13, 19) distances [1 7 3 2] withInPixDist [0 3]\n",
      "pt (13, 20) distances [1 6 3 3] withInPixDist [0]\n",
      "pt (13, 21) distances [1 5 4 4] withInPixDist [0]\n",
      "pt (13, 22) distances [1 5 5 5] withInPixDist [0]\n",
      "pt (13, 23) distances [1 5 6 6] withInPixDist [0]\n",
      "pt (13, 24) distances [1 6 7 7] withInPixDist [0]\n",
      "[(5, 25), (5, 26), (5, 27), (5, 28), (5, 29), (6, 24), (6, 25), (6, 26), (6, 27), (6, 28), (6, 29), (7, 24), (7, 25), (7, 26), (7, 27), (7, 28), (7, 29), (8, 21), (8, 22), (8, 23), (8, 24), (8, 21), (8, 22), (8, 23), (8, 25), (8, 21), (8, 22), (8, 23), (8, 26), (8, 27), (8, 28), (8, 29), (8, 21), (8, 22), (8, 23), (9, 21), (8, 21), (8, 22), (8, 23), (9, 22), (8, 21), (8, 22), (8, 23), (9, 23), (8, 21), (8, 22), (8, 23), (9, 24), (8, 21), (8, 22), (8, 23), (9, 25), (9, 26), (9, 27), (9, 28), (9, 29), (9, 19), (9, 20), (10, 19), (10, 20), (10, 21), (8, 21), (8, 22), (8, 23), (10, 22), (8, 21), (8, 22), (8, 23), (10, 23), (8, 21), (8, 22), (8, 23), (10, 24), (10, 25), (10, 26), (10, 27), (10, 28), (11, 18), (9, 19), (9, 20), (10, 19), (10, 20), (11, 19), (9, 19), (9, 20), (10, 19), (10, 20), (11, 20), (9, 19), (9, 20), (10, 19), (10, 20), (11, 21), (9, 19), (9, 20), (10, 19), (10, 20), (11, 22), (11, 23), (11, 24), (11, 25), (11, 26), (11, 27), (11, 28), (12, 18), (12, 19), (9, 19), (9, 20), (10, 19), (10, 20), (12, 20), (9, 19), (9, 20), (10, 19), (10, 20), (12, 21), (12, 22), (12, 23), (12, 24), (12, 25), (12, 26), (13, 16), (13, 17), (13, 18), (13, 16), (13, 17), (13, 19), (13, 16), (13, 17), (13, 20), (13, 21), (13, 22), (13, 23), (13, 24), (14, 15)] + [(13, 16), (13, 17)]\n",
      "pt (14, 15) distances [ 2 12  8  2] withInPixDist [0 3]\n",
      "[(5, 25), (5, 26), (5, 27), (5, 28), (5, 29), (6, 24), (6, 25), (6, 26), (6, 27), (6, 28), (6, 29), (7, 24), (7, 25), (7, 26), (7, 27), (7, 28), (7, 29), (8, 21), (8, 22), (8, 23), (8, 24), (8, 21), (8, 22), (8, 23), (8, 25), (8, 21), (8, 22), (8, 23), (8, 26), (8, 27), (8, 28), (8, 29), (8, 21), (8, 22), (8, 23), (9, 21), (8, 21), (8, 22), (8, 23), (9, 22), (8, 21), (8, 22), (8, 23), (9, 23), (8, 21), (8, 22), (8, 23), (9, 24), (8, 21), (8, 22), (8, 23), (9, 25), (9, 26), (9, 27), (9, 28), (9, 29), (9, 19), (9, 20), (10, 19), (10, 20), (10, 21), (8, 21), (8, 22), (8, 23), (10, 22), (8, 21), (8, 22), (8, 23), (10, 23), (8, 21), (8, 22), (8, 23), (10, 24), (10, 25), (10, 26), (10, 27), (10, 28), (11, 18), (9, 19), (9, 20), (10, 19), (10, 20), (11, 19), (9, 19), (9, 20), (10, 19), (10, 20), (11, 20), (9, 19), (9, 20), (10, 19), (10, 20), (11, 21), (9, 19), (9, 20), (10, 19), (10, 20), (11, 22), (11, 23), (11, 24), (11, 25), (11, 26), (11, 27), (11, 28), (12, 18), (12, 19), (9, 19), (9, 20), (10, 19), (10, 20), (12, 20), (9, 19), (9, 20), (10, 19), (10, 20), (12, 21), (12, 22), (12, 23), (12, 24), (12, 25), (12, 26), (13, 16), (13, 17), (13, 18), (13, 16), (13, 17), (13, 19), (13, 16), (13, 17), (13, 20), (13, 21), (13, 22), (13, 23), (13, 24), (14, 15), (13, 16), (13, 17), (14, 16)] + [(13, 16), (13, 17)]\n",
      "pt (14, 16) distances [ 1 11  7  1] withInPixDist [0 3]\n",
      "[(5, 25), (5, 26), (5, 27), (5, 28), (5, 29), (6, 24), (6, 25), (6, 26), (6, 27), (6, 28), (6, 29), (7, 24), (7, 25), (7, 26), (7, 27), (7, 28), (7, 29), (8, 21), (8, 22), (8, 23), (8, 24), (8, 21), (8, 22), (8, 23), (8, 25), (8, 21), (8, 22), (8, 23), (8, 26), (8, 27), (8, 28), (8, 29), (8, 21), (8, 22), (8, 23), (9, 21), (8, 21), (8, 22), (8, 23), (9, 22), (8, 21), (8, 22), (8, 23), (9, 23), (8, 21), (8, 22), (8, 23), (9, 24), (8, 21), (8, 22), (8, 23), (9, 25), (9, 26), (9, 27), (9, 28), (9, 29), (9, 19), (9, 20), (10, 19), (10, 20), (10, 21), (8, 21), (8, 22), (8, 23), (10, 22), (8, 21), (8, 22), (8, 23), (10, 23), (8, 21), (8, 22), (8, 23), (10, 24), (10, 25), (10, 26), (10, 27), (10, 28), (11, 18), (9, 19), (9, 20), (10, 19), (10, 20), (11, 19), (9, 19), (9, 20), (10, 19), (10, 20), (11, 20), (9, 19), (9, 20), (10, 19), (10, 20), (11, 21), (9, 19), (9, 20), (10, 19), (10, 20), (11, 22), (11, 23), (11, 24), (11, 25), (11, 26), (11, 27), (11, 28), (12, 18), (12, 19), (9, 19), (9, 20), (10, 19), (10, 20), (12, 20), (9, 19), (9, 20), (10, 19), (10, 20), (12, 21), (12, 22), (12, 23), (12, 24), (12, 25), (12, 26), (13, 16), (13, 17), (13, 18), (13, 16), (13, 17), (13, 19), (13, 16), (13, 17), (13, 20), (13, 21), (13, 22), (13, 23), (13, 24), (14, 15), (13, 16), (13, 17), (14, 16), (13, 16), (13, 17), (14, 17)] + [(13, 16), (13, 17)]\n",
      "pt (14, 17) distances [ 1 10  6  1] withInPixDist [0 3]\n",
      "[(5, 25), (5, 26), (5, 27), (5, 28), (5, 29), (6, 24), (6, 25), (6, 26), (6, 27), (6, 28), (6, 29), (7, 24), (7, 25), (7, 26), (7, 27), (7, 28), (7, 29), (8, 21), (8, 22), (8, 23), (8, 24), (8, 21), (8, 22), (8, 23), (8, 25), (8, 21), (8, 22), (8, 23), (8, 26), (8, 27), (8, 28), (8, 29), (8, 21), (8, 22), (8, 23), (9, 21), (8, 21), (8, 22), (8, 23), (9, 22), (8, 21), (8, 22), (8, 23), (9, 23), (8, 21), (8, 22), (8, 23), (9, 24), (8, 21), (8, 22), (8, 23), (9, 25), (9, 26), (9, 27), (9, 28), (9, 29), (9, 19), (9, 20), (10, 19), (10, 20), (10, 21), (8, 21), (8, 22), (8, 23), (10, 22), (8, 21), (8, 22), (8, 23), (10, 23), (8, 21), (8, 22), (8, 23), (10, 24), (10, 25), (10, 26), (10, 27), (10, 28), (11, 18), (9, 19), (9, 20), (10, 19), (10, 20), (11, 19), (9, 19), (9, 20), (10, 19), (10, 20), (11, 20), (9, 19), (9, 20), (10, 19), (10, 20), (11, 21), (9, 19), (9, 20), (10, 19), (10, 20), (11, 22), (11, 23), (11, 24), (11, 25), (11, 26), (11, 27), (11, 28), (12, 18), (12, 19), (9, 19), (9, 20), (10, 19), (10, 20), (12, 20), (9, 19), (9, 20), (10, 19), (10, 20), (12, 21), (12, 22), (12, 23), (12, 24), (12, 25), (12, 26), (13, 16), (13, 17), (13, 18), (13, 16), (13, 17), (13, 19), (13, 16), (13, 17), (13, 20), (13, 21), (13, 22), (13, 23), (13, 24), (14, 15), (13, 16), (13, 17), (14, 16), (13, 16), (13, 17), (14, 17), (13, 16), (13, 17), (14, 18)] + [(13, 16), (13, 17)]\n",
      "pt (14, 18) distances [1 9 5 2] withInPixDist [0 3]\n",
      "pt (14, 19) distances [1 8 4 3] withInPixDist [0]\n",
      "pt (14, 20) distances [1 7 4 4] withInPixDist [0]\n",
      "pt (14, 21) distances [1 6 5 5] withInPixDist [0]\n",
      "pt (14, 22) distances [1 6 6 6] withInPixDist [0]\n",
      "pt (14, 23) distances [1 6 7 7] withInPixDist [0]\n",
      "pt (14, 24) distances [1 7 8 8] withInPixDist [0]\n",
      "pt (15, 15) distances [ 1 13  9  3] withInPixDist [0]\n",
      "[(5, 25), (5, 26), (5, 27), (5, 28), (5, 29), (6, 24), (6, 25), (6, 26), (6, 27), (6, 28), (6, 29), (7, 24), (7, 25), (7, 26), (7, 27), (7, 28), (7, 29), (8, 21), (8, 22), (8, 23), (8, 24), (8, 21), (8, 22), (8, 23), (8, 25), (8, 21), (8, 22), (8, 23), (8, 26), (8, 27), (8, 28), (8, 29), (8, 21), (8, 22), (8, 23), (9, 21), (8, 21), (8, 22), (8, 23), (9, 22), (8, 21), (8, 22), (8, 23), (9, 23), (8, 21), (8, 22), (8, 23), (9, 24), (8, 21), (8, 22), (8, 23), (9, 25), (9, 26), (9, 27), (9, 28), (9, 29), (9, 19), (9, 20), (10, 19), (10, 20), (10, 21), (8, 21), (8, 22), (8, 23), (10, 22), (8, 21), (8, 22), (8, 23), (10, 23), (8, 21), (8, 22), (8, 23), (10, 24), (10, 25), (10, 26), (10, 27), (10, 28), (11, 18), (9, 19), (9, 20), (10, 19), (10, 20), (11, 19), (9, 19), (9, 20), (10, 19), (10, 20), (11, 20), (9, 19), (9, 20), (10, 19), (10, 20), (11, 21), (9, 19), (9, 20), (10, 19), (10, 20), (11, 22), (11, 23), (11, 24), (11, 25), (11, 26), (11, 27), (11, 28), (12, 18), (12, 19), (9, 19), (9, 20), (10, 19), (10, 20), (12, 20), (9, 19), (9, 20), (10, 19), (10, 20), (12, 21), (12, 22), (12, 23), (12, 24), (12, 25), (12, 26), (13, 16), (13, 17), (13, 18), (13, 16), (13, 17), (13, 19), (13, 16), (13, 17), (13, 20), (13, 21), (13, 22), (13, 23), (13, 24), (14, 15), (13, 16), (13, 17), (14, 16), (13, 16), (13, 17), (14, 17), (13, 16), (13, 17), (14, 18), (13, 16), (13, 17), (14, 19), (14, 20), (14, 21), (14, 22), (14, 23), (14, 24), (15, 15), (15, 16)] + [(13, 16), (13, 17)]\n",
      "pt (15, 16) distances [ 1 12  8  2] withInPixDist [0 3]\n",
      "[(5, 25), (5, 26), (5, 27), (5, 28), (5, 29), (6, 24), (6, 25), (6, 26), (6, 27), (6, 28), (6, 29), (7, 24), (7, 25), (7, 26), (7, 27), (7, 28), (7, 29), (8, 21), (8, 22), (8, 23), (8, 24), (8, 21), (8, 22), (8, 23), (8, 25), (8, 21), (8, 22), (8, 23), (8, 26), (8, 27), (8, 28), (8, 29), (8, 21), (8, 22), (8, 23), (9, 21), (8, 21), (8, 22), (8, 23), (9, 22), (8, 21), (8, 22), (8, 23), (9, 23), (8, 21), (8, 22), (8, 23), (9, 24), (8, 21), (8, 22), (8, 23), (9, 25), (9, 26), (9, 27), (9, 28), (9, 29), (9, 19), (9, 20), (10, 19), (10, 20), (10, 21), (8, 21), (8, 22), (8, 23), (10, 22), (8, 21), (8, 22), (8, 23), (10, 23), (8, 21), (8, 22), (8, 23), (10, 24), (10, 25), (10, 26), (10, 27), (10, 28), (11, 18), (9, 19), (9, 20), (10, 19), (10, 20), (11, 19), (9, 19), (9, 20), (10, 19), (10, 20), (11, 20), (9, 19), (9, 20), (10, 19), (10, 20), (11, 21), (9, 19), (9, 20), (10, 19), (10, 20), (11, 22), (11, 23), (11, 24), (11, 25), (11, 26), (11, 27), (11, 28), (12, 18), (12, 19), (9, 19), (9, 20), (10, 19), (10, 20), (12, 20), (9, 19), (9, 20), (10, 19), (10, 20), (12, 21), (12, 22), (12, 23), (12, 24), (12, 25), (12, 26), (13, 16), (13, 17), (13, 18), (13, 16), (13, 17), (13, 19), (13, 16), (13, 17), (13, 20), (13, 21), (13, 22), (13, 23), (13, 24), (14, 15), (13, 16), (13, 17), (14, 16), (13, 16), (13, 17), (14, 17), (13, 16), (13, 17), (14, 18), (13, 16), (13, 17), (14, 19), (14, 20), (14, 21), (14, 22), (14, 23), (14, 24), (15, 15), (15, 16), (13, 16), (13, 17), (15, 17)] + [(13, 16), (13, 17)]\n",
      "pt (15, 17) distances [ 1 11  7  2] withInPixDist [0 3]\n",
      "pt (15, 18) distances [ 1 10  6  3] withInPixDist [0]\n",
      "pt (15, 19) distances [1 9 5 4] withInPixDist [0]\n",
      "pt (15, 20) distances [1 8 5 5] withInPixDist [0]\n",
      "pt (15, 21) distances [1 7 6 6] withInPixDist [0]\n",
      "pt (15, 22) distances [1 7 7 7] withInPixDist [0]\n",
      "pt (16, 14) distances [ 2 15 11  5] withInPixDist [0]\n",
      "pt (16, 15) distances [ 1 14 10  4] withInPixDist [0]\n",
      "pt (16, 16) distances [ 1 13  9  3] withInPixDist [0]\n",
      "pt (16, 17) distances [ 1 12  8  3] withInPixDist [0]\n",
      "pt (16, 18) distances [ 1 11  7  4] withInPixDist [0]\n",
      "pt (16, 19) distances [ 1 10  6  5] withInPixDist [0]\n"
     ]
    }
   ],
   "source": [
    "grps = groupPoints(binCoords[:100])"
   ]
  },
  {
   "cell_type": "code",
   "execution_count": 238,
   "metadata": {},
   "outputs": [
    {
     "data": {
      "text/plain": [
       "4"
      ]
     },
     "execution_count": 238,
     "metadata": {},
     "output_type": "execute_result"
    }
   ],
   "source": [
    "len(grps)"
   ]
  },
  {
   "cell_type": "markdown",
   "metadata": {},
   "source": [
    "#### Create groupings and bounds of black pixels"
   ]
  },
  {
   "cell_type": "markdown",
   "metadata": {},
   "source": [
    "#### Reshape identified numbers into standard shape"
   ]
  },
  {
   "cell_type": "markdown",
   "metadata": {},
   "source": [
    "#### Implement the Neural Network"
   ]
  },
  {
   "cell_type": "markdown",
   "metadata": {},
   "source": [
    "#### Define Preprocessing to Train NN pipeline"
   ]
  },
  {
   "cell_type": "code",
   "execution_count": null,
   "metadata": {},
   "outputs": [],
   "source": []
  }
 ],
 "metadata": {
  "kernelspec": {
   "display_name": "Python [conda env:anaconda2]",
   "language": "python",
   "name": "conda-env-anaconda2-py"
  },
  "language_info": {
   "codemirror_mode": {
    "name": "ipython",
    "version": 2
   },
   "file_extension": ".py",
   "mimetype": "text/x-python",
   "name": "python",
   "nbconvert_exporter": "python",
   "pygments_lexer": "ipython2",
   "version": "2.7.14"
  }
 },
 "nbformat": 4,
 "nbformat_minor": 2
}
