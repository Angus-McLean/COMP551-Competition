{
 "cells": [
  {
   "cell_type": "markdown",
   "metadata": {},
   "source": [
    "# 1_BaseLineClassifiers"
   ]
  },
  {
   "cell_type": "markdown",
   "metadata": {},
   "source": [
    "## Read Data to Numpy"
   ]
  },
  {
   "cell_type": "markdown",
   "metadata": {},
   "source": [
    "Take just a sample of the data."
   ]
  },
  {
   "cell_type": "code",
   "execution_count": 27,
   "metadata": {
    "collapsed": true
   },
   "outputs": [],
   "source": [
    "X_all = np.loadtxt(\"Datasets/processed_train_x.csv\", delimiter=\",\").reshape(-1, 25, 25)\n",
    "Y_all = np.loadtxt(\"Datasets/train_y.csv\", delimiter=\",\").reshape(-1, 1)"
   ]
  },
  {
   "cell_type": "code",
   "execution_count": 28,
   "metadata": {
    "collapsed": true
   },
   "outputs": [],
   "source": [
    "TARGET_SHAPE = 25\n",
    "VAL_LENGTH = int(len(X_all)*0.2)\n",
    "X_train = X_all[VAL_LENGTH:]\n",
    "Y_train = Y_all[VAL_LENGTH:]\n",
    "\n",
    "X_val = X_all[:VAL_LENGTH]\n",
    "Y_val = Y_all[:VAL_LENGTH]"
   ]
  },
  {
   "cell_type": "markdown",
   "metadata": {},
   "source": [
    "## Base Line Classifiers"
   ]
  },
  {
   "cell_type": "markdown",
   "metadata": {},
   "source": [
    "### Imports"
   ]
  },
  {
   "cell_type": "code",
   "execution_count": 29,
   "metadata": {
    "collapsed": true
   },
   "outputs": [],
   "source": [
    "import sklearn\n",
    "import sklearn.metrics\n",
    "import sklearn.model_selection"
   ]
  },
  {
   "cell_type": "markdown",
   "metadata": {},
   "source": [
    "### Random classifier"
   ]
  },
  {
   "cell_type": "code",
   "execution_count": 30,
   "metadata": {
    "collapsed": true
   },
   "outputs": [],
   "source": [
    "# classes = np.unique(Y_train)\n",
    "# randPreds = np.random.choice(classes, len(Y_val))\n",
    "# sklearn.metrics.f1_score(Y_val, randPreds, average='micro')"
   ]
  },
  {
   "cell_type": "markdown",
   "metadata": {},
   "source": [
    "### Majority-class classifier"
   ]
  },
  {
   "cell_type": "code",
   "execution_count": 31,
   "metadata": {
    "scrolled": true
   },
   "outputs": [
    {
     "name": "stdout",
     "output_type": "stream",
     "text": [
      "accuracy : 0.0999\n",
      "f1_score : 0.0999\n"
     ]
    }
   ],
   "source": [
    "# most common class in training set\n",
    "majClass = np.argmax(Y_train)\n",
    "majPreds = np.multiply(np.ones(len(Y_val)), majClass)\n",
    "print 'accuracy :', sklearn.metrics.accuracy_score(Y_val, majPreds)\n",
    "print 'f1_score :', sklearn.metrics.f1_score(Y_val, majPreds, average='micro')"
   ]
  },
  {
   "cell_type": "markdown",
   "metadata": {},
   "source": [
    "### Linear SVM"
   ]
  },
  {
   "cell_type": "code",
   "execution_count": 32,
   "metadata": {
    "collapsed": true
   },
   "outputs": [],
   "source": [
    "import sklearn.svm"
   ]
  },
  {
   "cell_type": "code",
   "execution_count": 33,
   "metadata": {},
   "outputs": [
    {
     "data": {
      "text/plain": [
       "0.46700000000000003"
      ]
     },
     "execution_count": 33,
     "metadata": {},
     "output_type": "execute_result"
    }
   ],
   "source": [
    "clf = sklearn.svm.LinearSVC()\n",
    "clf.fit(X_train.reshape(-1, TARGET_SHAPE*TARGET_SHAPE), Y_train)\n",
    "preds = clf.predict(X_val.reshape(-1, TARGET_SHAPE*TARGET_SHAPE))\n",
    "sklearn.metrics.f1_score(Y_val, preds, average='micro')"
   ]
  },
  {
   "cell_type": "code",
   "execution_count": null,
   "metadata": {
    "collapsed": true
   },
   "outputs": [],
   "source": []
  }
 ],
 "metadata": {
  "kernelspec": {
   "display_name": "Python 2",
   "language": "python",
   "name": "python2"
  },
  "language_info": {
   "codemirror_mode": {
    "name": "ipython",
    "version": 2
   },
   "file_extension": ".py",
   "mimetype": "text/x-python",
   "name": "python",
   "nbconvert_exporter": "python",
   "pygments_lexer": "ipython2",
   "version": "2.7.14"
  }
 },
 "nbformat": 4,
 "nbformat_minor": 2
}
